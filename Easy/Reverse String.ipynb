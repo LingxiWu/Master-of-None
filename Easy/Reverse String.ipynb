{
 "cells": [
  {
   "cell_type": "code",
   "execution_count": 4,
   "metadata": {},
   "outputs": [
    {
     "name": "stdout",
     "output_type": "stream",
     "text": [
      "olleh\n"
     ]
    }
   ],
   "source": [
    "# Write a function that takes a string as input and returns the string reversed.\n",
    "\n",
    "# Example:\n",
    "# Given s = \"hello\", return \"olleh\".\n",
    "\n",
    "# a classic solution\n",
    "def reverseString(s):\n",
    "    r = list(s)\n",
    "    i, j = 0, len(s) - 1\n",
    "    while i < j:\n",
    "        r[i], r[j] = r[j], r[i]\n",
    "        i += 1\n",
    "        j -= 1\n",
    "        \n",
    "    return ''.join(r)\n",
    "\n",
    "# a very pythonic solution\n",
    "# def reverseString(s):\n",
    "#     ans = s[::-1]\n",
    "#     return ans\n",
    "\n",
    "\n",
    "\n",
    "print(reverseString('hello'))"
   ]
  },
  {
   "cell_type": "code",
   "execution_count": null,
   "metadata": {
    "collapsed": true
   },
   "outputs": [],
   "source": []
  }
 ],
 "metadata": {
  "kernelspec": {
   "display_name": "Python 3",
   "language": "python",
   "name": "python3"
  },
  "language_info": {
   "codemirror_mode": {
    "name": "ipython",
    "version": 3
   },
   "file_extension": ".py",
   "mimetype": "text/x-python",
   "name": "python",
   "nbconvert_exporter": "python",
   "pygments_lexer": "ipython3",
   "version": "3.6.1"
  }
 },
 "nbformat": 4,
 "nbformat_minor": 2
}
