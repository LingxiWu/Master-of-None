{
 "cells": [
  {
   "cell_type": "code",
   "execution_count": 10,
   "metadata": {},
   "outputs": [
    {
     "name": "stdout",
     "output_type": "stream",
     "text": [
      "2\n"
     ]
    }
   ],
   "source": [
    "# The Hamming distance between two integers is the number of positions at which the corresponding bits are different.\n",
    "\n",
    "# Given two integers x and y, calculate the Hamming distance.\n",
    "\n",
    "# Note:\n",
    "# 0 ≤ x, y < 231.\n",
    "\n",
    "# Example:\n",
    "\n",
    "# Input: x = 1, y = 4\n",
    "\n",
    "# Output: 2\n",
    "\n",
    "# Explanation:\n",
    "# 1   (0 0 0 1)\n",
    "# 4   (0 1 0 0)\n",
    "#        ↑   ↑\n",
    "\n",
    "# The above arrows point to positions where the corresponding bits are different.\n",
    "\n",
    "# hint:\n",
    "# a = 60            # 60 = 0011 1100 \n",
    "# b = 13            # 13 = 0000 1101 \n",
    "# c = a ^ b;        # 49 = 0011 0001\n",
    "\n",
    "x = 1\n",
    "y = 4\n",
    "\n",
    "print(bin(x^y).count('1'))\n"
   ]
  }
 ],
 "metadata": {
  "kernelspec": {
   "display_name": "Python 3",
   "language": "python",
   "name": "python3"
  },
  "language_info": {
   "codemirror_mode": {
    "name": "ipython",
    "version": 3
   },
   "file_extension": ".py",
   "mimetype": "text/x-python",
   "name": "python",
   "nbconvert_exporter": "python",
   "pygments_lexer": "ipython3",
   "version": "3.6.1"
  }
 },
 "nbformat": 4,
 "nbformat_minor": 2
}
