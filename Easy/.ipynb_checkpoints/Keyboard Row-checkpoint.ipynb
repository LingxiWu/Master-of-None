{
 "cells": [
  {
   "cell_type": "code",
   "execution_count": 22,
   "metadata": {},
   "outputs": [
    {
     "name": "stdout",
     "output_type": "stream",
     "text": [
      "{'l', 'e', 'o', 'h'}\n",
      "{'l', 's', 'k', 'a'}\n",
      "{'a', 'd'}\n",
      "{'c', 'e', 'a', 'p'}\n"
     ]
    },
    {
     "data": {
      "text/plain": [
       "['Alaska', 'Dad']"
      ]
     },
     "execution_count": 22,
     "metadata": {},
     "output_type": "execute_result"
    }
   ],
   "source": [
    "# Given a List of words, \n",
    "# return the words that can be typed using letters of alphabet on only one row's of American keyboard like the image below.\n",
    "\n",
    "# Example 1:\n",
    "# Input: [\"Hello\", \"Alaska\", \"Dad\", \"Peace\"]\n",
    "# Output: [\"Alaska\", \"Dad\"]\n",
    "\n",
    "def keyboardRow(words):\n",
    "    \n",
    "    keyboard_set1 = set(['q','w','e','r','t','y','u','i','o','p'])\n",
    "    keyboard_set2 = set(['a','s','d','f','g','h','j','k','l'])\n",
    "    keyboard_set3 = set(['z','x','c','v','b','n','m'])\n",
    "    \n",
    "    lst = []\n",
    "    for i in range(len(words)):\n",
    "        \n",
    "        word_set = set(words[i].lower())\n",
    "        print(word_set)\n",
    "        if(len(keyboard_set1&word_set) == len(word_set) or\n",
    "            len(keyboard_set2&word_set) == len(word_set) or\n",
    "            len(keyboard_set3&word_set) == len(word_set)):\n",
    "\n",
    "            lst.append(words[i])\n",
    "    \n",
    "    return lst\n",
    "    \n",
    "        \n",
    "    print(keyboard_set3&word_list)\n",
    "    \n",
    "keyboardRow([\"Hello\", \"Alaska\", \"Dad\", \"Peace\"])"
   ]
  }
 ],
 "metadata": {
  "kernelspec": {
   "display_name": "Python 3",
   "language": "python",
   "name": "python3"
  },
  "language_info": {
   "codemirror_mode": {
    "name": "ipython",
    "version": 3
   },
   "file_extension": ".py",
   "mimetype": "text/x-python",
   "name": "python",
   "nbconvert_exporter": "python",
   "pygments_lexer": "ipython3",
   "version": "3.6.1"
  }
 },
 "nbformat": 4,
 "nbformat_minor": 2
}
