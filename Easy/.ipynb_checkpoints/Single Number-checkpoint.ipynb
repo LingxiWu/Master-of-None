{
 "cells": [
  {
   "cell_type": "code",
   "execution_count": 42,
   "metadata": {},
   "outputs": [
    {
     "data": {
      "text/plain": [
       "3"
      ]
     },
     "execution_count": 42,
     "metadata": {},
     "output_type": "execute_result"
    }
   ],
   "source": [
    "# Given an array of integers, every element appears twice except for one. Find that single one.\n",
    "\n",
    "# Note:\n",
    "# Your algorithm should have a linear runtime complexity. Could you implement it without using extra memory?\n",
    "\n",
    "# Tricky tricky tricky!\n",
    "# Use XOR ^ operator to implement to achieve O(N). \n",
    "# Properties 1: if x^y = 0 then they are the same.\n",
    "# properties 2: if x = 0, y = q, x^y = q\n",
    "# given an array: [1,1,2,2,3,4,4] then from above 2 properties we have: \n",
    "# 1^1^2^2^3^4^4 = [1^1]^[2^2]^[3]^[4^4] = 0^0^3^0 = 3. Basically we apply XOR continuously.\n",
    "def singleNumber(nums):\n",
    "    res = 0\n",
    "    for i in range(len(nums)):\n",
    "        res = res^nums[i]\n",
    "    return res    \n",
    "singleNumber([1,1,2,2,3,4,4])"
   ]
  },
  {
   "cell_type": "code",
   "execution_count": null,
   "metadata": {
    "collapsed": true
   },
   "outputs": [],
   "source": []
  }
 ],
 "metadata": {
  "kernelspec": {
   "display_name": "Python 3",
   "language": "python",
   "name": "python3"
  },
  "language_info": {
   "codemirror_mode": {
    "name": "ipython",
    "version": 3
   },
   "file_extension": ".py",
   "mimetype": "text/x-python",
   "name": "python",
   "nbconvert_exporter": "python",
   "pygments_lexer": "ipython3",
   "version": "3.6.1"
  }
 },
 "nbformat": 4,
 "nbformat_minor": 2
}
