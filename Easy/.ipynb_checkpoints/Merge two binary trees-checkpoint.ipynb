{
 "cells": [
  {
   "cell_type": "code",
   "execution_count": 32,
   "metadata": {},
   "outputs": [
    {
     "name": "stdout",
     "output_type": "stream",
     "text": [
      "4\n"
     ]
    }
   ],
   "source": [
    "# Merge two binary trees to one.\n",
    "# E.g. 1    +    3    =    4 \n",
    "#     / \\       / \\       / \\\n",
    "#    2  8      4  9      6  17 \n",
    "#   /    \\              /    \\\n",
    "#  4      9            4      9\n",
    "\n",
    "# Let's design a binary tree.\n",
    "# Step 1: define a node.\n",
    "class Node:\n",
    "    def __init__(self, val):\n",
    "        self.l = None\n",
    "        self.r = None\n",
    "        self.value = val       \n",
    "    def mergeTrees(self, t1, t2):\n",
    "        if(t1 == None):\n",
    "            return t2\n",
    "        if(t2 == None):\n",
    "            return t1\n",
    "        \n",
    "        t1.value = t1.value + t2.value\n",
    "        t1.l = self.mergeTrees(t1.l, t2.l)\n",
    "        t1.r = self.mergeTrees(t1.r, t2.r)\n",
    "        return t1\n",
    "    \n",
    "t1 = Node(1)\n",
    "t1.l = Node(2)\n",
    "t1.r = Node(8)\n",
    "t1.l.l = Node(4)\n",
    "t1.r.r = Node(9)\n",
    "\n",
    "t2 = Node(3)\n",
    "t2.l = Node(4)\n",
    "t2.r = Node(9)\n",
    "\n",
    "t1.mergeTrees(t1, t2)\n",
    "print(t1.l.l.value)\n",
    "\n",
    "\n",
    "\n",
    "        \n",
    "     \n",
    "\n",
    "        "
   ]
  }
 ],
 "metadata": {
  "kernelspec": {
   "display_name": "Python 3",
   "language": "python",
   "name": "python3"
  },
  "language_info": {
   "codemirror_mode": {
    "name": "ipython",
    "version": 3
   },
   "file_extension": ".py",
   "mimetype": "text/x-python",
   "name": "python",
   "nbconvert_exporter": "python",
   "pygments_lexer": "ipython3",
   "version": "3.6.1"
  }
 },
 "nbformat": 4,
 "nbformat_minor": 2
}
