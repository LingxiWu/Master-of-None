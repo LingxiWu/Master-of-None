{
 "cells": [
  {
   "cell_type": "code",
   "execution_count": 25,
   "metadata": {},
   "outputs": [
    {
     "name": "stdout",
     "output_type": "stream",
     "text": [
      "dict_keys(['t', 'i', 'l', 'e'])\n",
      "dict_values([[0], [1], [2, 3], [4]])\n",
      "['a', 'i', 'p', 'z']\n"
     ]
    }
   ],
   "source": [
    "# Given two strings s and t, determine if they are isomorphic.\n",
    "\n",
    "# Two strings are isomorphic if the characters in s can be replaced to get t.\n",
    "\n",
    "# All occurrences of a character must be replaced with another character while preserving the order of characters. \n",
    "# No two characters may map to the same character but a character may map to itself.\n",
    "\n",
    "# For example,\n",
    "# Given \"egg\", \"add\", return true.\n",
    "\n",
    "# Given \"foo\", \"bar\", return false.\n",
    "\n",
    "# Given \"paper\", \"title\", return true.\n",
    "\n",
    "# Note:\n",
    "# You may assume both s and t have the same length.\n",
    "\n",
    "def isomorphicStrings(s, t):\n",
    "    d1, d2 = {}, {}\n",
    "    for i, val in enumerate(s):\n",
    "        d1[val] = d1.get(val, []) + [i]\n",
    "    for i, val in enumerate(t):\n",
    "        d2[val] = d2.get(val, []) + [i]\n",
    "    print(d2.values())\n",
    "    print(d1.values())\n",
    "    print(sorted(d1.values()) == sorted(d2.values()))\n",
    "        \n",
    "isomorphicStrings('pizza', 'title')"
   ]
  },
  {
   "cell_type": "code",
   "execution_count": null,
   "metadata": {
    "collapsed": true
   },
   "outputs": [],
   "source": []
  }
 ],
 "metadata": {
  "kernelspec": {
   "display_name": "Python 3",
   "language": "python",
   "name": "python3"
  },
  "language_info": {
   "codemirror_mode": {
    "name": "ipython",
    "version": 3
   },
   "file_extension": ".py",
   "mimetype": "text/x-python",
   "name": "python",
   "nbconvert_exporter": "python",
   "pygments_lexer": "ipython3",
   "version": "3.6.1"
  }
 },
 "nbformat": 4,
 "nbformat_minor": 2
}
