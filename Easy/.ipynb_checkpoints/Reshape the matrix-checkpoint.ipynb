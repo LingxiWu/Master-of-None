{
 "cells": [
  {
   "cell_type": "code",
   "execution_count": null,
   "metadata": {
    "collapsed": true
   },
   "outputs": [],
   "source": [
    "# Case 1:\n",
    "# Input: \n",
    "# nums = \n",
    "# [[1,2],\n",
    "#  [3,4]]\n",
    "# r = 1, c = 4\n",
    "# Output: \n",
    "# [[1,2,3,4]]\n",
    "\n",
    "# Case 2:\n",
    "# Input: \n",
    "# nums = \n",
    "# [[1,2],\n",
    "#  [3,4]]\n",
    "# r = 2, c = 4\n",
    "# Output: \n",
    "# [[1,2],\n",
    "#  [3,4]]\n",
    "\n",
    "# There is no way to reshape a 2 * 2 matrix to a 2 * 4 matrix. So output the original matrix.\n"
   ]
  }
 ],
 "metadata": {
  "kernelspec": {
   "display_name": "Python 3",
   "language": "python",
   "name": "python3"
  },
  "language_info": {
   "codemirror_mode": {
    "name": "ipython",
    "version": 3
   },
   "file_extension": ".py",
   "mimetype": "text/x-python",
   "name": "python",
   "nbconvert_exporter": "python",
   "pygments_lexer": "ipython3",
   "version": "3.6.1"
  }
 },
 "nbformat": 4,
 "nbformat_minor": 2
}
