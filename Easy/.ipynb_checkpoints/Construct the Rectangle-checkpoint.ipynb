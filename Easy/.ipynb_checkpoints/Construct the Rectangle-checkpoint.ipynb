{
 "cells": [
  {
   "cell_type": "code",
   "execution_count": 19,
   "metadata": {},
   "outputs": [
    {
     "data": {
      "text/plain": [
       "[5, 3]"
      ]
     },
     "execution_count": 19,
     "metadata": {},
     "output_type": "execute_result"
    }
   ],
   "source": [
    "# For a web developer, it is very important to know how to design a web page's size. \n",
    "# So, given a specific rectangular web page’s area, your job by now is to design a rectangular web page, \n",
    "# whose length L and width W satisfy the following requirements:\n",
    "\n",
    "# 1. The area of the rectangular web page you designed must equal to the given target area.\n",
    "\n",
    "# 2. The width W should not be larger than the length L, which means L >= W.\n",
    "\n",
    "# 3. The difference between length L and width W should be as small as possible.\n",
    "# You need to output the length L and the width W of the web page you designed in sequence.\n",
    "# Example:\n",
    "# Input: 4\n",
    "# Output: [2, 2]\n",
    "# Explanation: The target area is 4, and all the possible ways to construct it are [1,4], [2,2], [4,1]. \n",
    "# But according to requirement 2, [1,4] is illegal; according to requirement 3,  [4,1] is not optimal compared to [2,2].\n",
    "# So the length L is 2, and the width W is 2.\n",
    "\n",
    "# r = 18**(1/2.0)\n",
    "# print(18%int(r))\n",
    "\n",
    "def constructRectangle(area):\n",
    "    dim = []\n",
    "    r = int(area**(1/2.0))\n",
    "    i = 0\n",
    "    while(area%r!=0):\n",
    "        r -= 1\n",
    "    dim.append(int(area/r)) # length    \n",
    "    dim.append(int(r)) # width\n",
    "    \n",
    "    return dim\n",
    "    print(dim)\n",
    "\n",
    "constructRectangle(15)\n"
   ]
  }
 ],
 "metadata": {
  "kernelspec": {
   "display_name": "Python 3",
   "language": "python",
   "name": "python3"
  },
  "language_info": {
   "codemirror_mode": {
    "name": "ipython",
    "version": 3
   },
   "file_extension": ".py",
   "mimetype": "text/x-python",
   "name": "python",
   "nbconvert_exporter": "python",
   "pygments_lexer": "ipython3",
   "version": "3.6.1"
  }
 },
 "nbformat": 4,
 "nbformat_minor": 2
}
