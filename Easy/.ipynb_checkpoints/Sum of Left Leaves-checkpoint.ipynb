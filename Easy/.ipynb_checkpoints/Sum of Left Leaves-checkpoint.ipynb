{
 "cells": [
  {
   "cell_type": "code",
   "execution_count": null,
   "metadata": {
    "collapsed": true
   },
   "outputs": [],
   "source": [
    "# Find the sum of all left leaves in a given binary tree.\n",
    "\n",
    "# Example:\n",
    "\n",
    "#     3\n",
    "#    / \\\n",
    "#   9  20\n",
    "#     /  \\\n",
    "#    15   7\n",
    "\n",
    "# There are two left leaves in the binary tree, with values 9 and 15 respectively. Return 24.\n",
    "\n",
    "#      1\n",
    "#     / \\\n",
    "#    2   3\n",
    "#   / \\\n",
    "#  4   5\n",
    "\n",
    "# (a) Inorder (Left, Root, Right) : 4 2 5 1 3\n",
    "# (b) Preorder (Root, Left, Right) : 1 2 4 5 3\n",
    "# (c) Postorder (Left, Right, Root) : 4 5 2 3 1\n",
    "\n"
   ]
  }
 ],
 "metadata": {
  "kernelspec": {
   "display_name": "Python 3",
   "language": "python",
   "name": "python3"
  },
  "language_info": {
   "codemirror_mode": {
    "name": "ipython",
    "version": 3
   },
   "file_extension": ".py",
   "mimetype": "text/x-python",
   "name": "python",
   "nbconvert_exporter": "python",
   "pygments_lexer": "ipython3",
   "version": "3.6.1"
  }
 },
 "nbformat": 4,
 "nbformat_minor": 2
}
