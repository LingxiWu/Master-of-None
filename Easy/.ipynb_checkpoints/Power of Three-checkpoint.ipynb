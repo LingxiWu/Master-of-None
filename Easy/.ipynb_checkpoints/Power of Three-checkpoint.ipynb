{
 "cells": [
  {
   "cell_type": "code",
   "execution_count": 6,
   "metadata": {},
   "outputs": [
    {
     "name": "stdout",
     "output_type": "stream",
     "text": [
      "False\n"
     ]
    }
   ],
   "source": [
    "# Given an integer, write a function to determine if it is a power of three.\n",
    "\n",
    "# Follow up:\n",
    "# Could you do it without using any loop / recursion?\n",
    "\n",
    "# A basic recursion practice.\n",
    "def powOfThreeRec(n):\n",
    "    if(n == 1):\n",
    "        return True;\n",
    "    elif(n == 3):\n",
    "        return True;\n",
    "    else:\n",
    "        if(n%3 == 0):\n",
    "            return True and powOfThreeRec(n/3)\n",
    "        else:\n",
    "            return False\n",
    "\n",
    "# One hackish way to accomplish this. Find the largest intger N that is the power of three. If a given number \n",
    "# can be divided by N then it is a power of three.\n",
    "\n",
    "    \n",
    "\n",
    "\n",
    "print(powOfThreeRec(43))\n",
    "\n"
   ]
  },
  {
   "cell_type": "code",
   "execution_count": null,
   "metadata": {
    "collapsed": true
   },
   "outputs": [],
   "source": []
  }
 ],
 "metadata": {
  "kernelspec": {
   "display_name": "Python 3",
   "language": "python",
   "name": "python3"
  },
  "language_info": {
   "codemirror_mode": {
    "name": "ipython",
    "version": 3
   },
   "file_extension": ".py",
   "mimetype": "text/x-python",
   "name": "python",
   "nbconvert_exporter": "python",
   "pygments_lexer": "ipython3",
   "version": "3.6.1"
  }
 },
 "nbformat": 4,
 "nbformat_minor": 2
}
