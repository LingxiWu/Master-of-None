{
 "cells": [
  {
   "cell_type": "code",
   "execution_count": 29,
   "metadata": {},
   "outputs": [
    {
     "name": "stdout",
     "output_type": "stream",
     "text": [
      "3\n"
     ]
    }
   ],
   "source": [
    "# Give a string s, count the number of non-empty (contiguous) substrings that have the same number of 0's and 1's, \n",
    "# and all the 0's and all the 1's in these substrings are grouped consecutively.\n",
    "\n",
    "# Substrings that occur multiple times are counted the number of times they occur.\n",
    "\n",
    "# Input: \"00110011\"\n",
    "# Output: 6\n",
    "# Explanation: There are 6 substrings that have equal number of consecutive 1's and 0's: \n",
    "# \"0011\", \"01\", \"1100\", \"10\", \"0011\", and \"01\".\n",
    "\n",
    "# Notice that some of these substrings repeat and are counted the number of times they occur.\n",
    "\n",
    "# Also, \"00110011\" is not a valid substring because all the 0's (and 1's) are not grouped together.\n",
    "\n",
    "# Input: \"10101\"\n",
    "# Output: 4\n",
    "# Explanation: There are 4 substrings: \"10\", \"01\", \"10\", \"01\" that have equal number of consecutive 1's and 0's.\n",
    "\n",
    "# My algorithm use stack.\n",
    "# A smarter way is to analyze the group information of elements:\n",
    "# For example: a string 0001111 has three 0s and four 1s. Then the maximum number of substring that matches the requirements\n",
    "# is 3. Now we construct an array containing such group information. For example: 001101001 -> [2,2,1,1,2,1]. Then the \n",
    "# number of substrings is min(2,2) + min(2,1) + min(1,1) + min(1,2) + min(2,1) = 2 + 1 + 1 + 1 + 1 = 6\n",
    "\n",
    "def countBinarySubstrings(string):\n",
    "    counter = 1\n",
    "    pre_cursor = 1\n",
    "    group = []\n",
    "    ans = 0\n",
    "    for i in range(0, len(string)):\n",
    "        if(pre_cursor == len(string)):\n",
    "            group.append(counter);\n",
    "            break;\n",
    "        elif(string[i] == string[pre_cursor]):\n",
    "            counter += 1\n",
    "        elif(string[i] != string[pre_cursor]):\n",
    "            group.append(counter);\n",
    "            counter = 1\n",
    "        pre_cursor += 1\n",
    "    \n",
    "    for j in range(len(group)): \n",
    "        if(j+1==len(group)):\n",
    "            break;  \n",
    "        ans += min(group[j],group[j+1])\n",
    "    return ans   \n",
    "    \n",
    "print(countBinarySubstrings('00110'))\n",
    "\n"
   ]
  }
 ],
 "metadata": {
  "kernelspec": {
   "display_name": "Python 3",
   "language": "python",
   "name": "python3"
  },
  "language_info": {
   "codemirror_mode": {
    "name": "ipython",
    "version": 3
   },
   "file_extension": ".py",
   "mimetype": "text/x-python",
   "name": "python",
   "nbconvert_exporter": "python",
   "pygments_lexer": "ipython3",
   "version": "3.6.1"
  }
 },
 "nbformat": 4,
 "nbformat_minor": 2
}
