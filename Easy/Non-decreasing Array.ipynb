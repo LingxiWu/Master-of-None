{
 "cells": [
  {
   "cell_type": "code",
   "execution_count": 24,
   "metadata": {},
   "outputs": [
    {
     "name": "stdout",
     "output_type": "stream",
     "text": [
      "0\n",
      "1\n"
     ]
    },
    {
     "data": {
      "text/plain": [
       "[2, 2, 2]"
      ]
     },
     "execution_count": 24,
     "metadata": {},
     "output_type": "execute_result"
    }
   ],
   "source": [
    "# Given an array with n integers, your task is to check if it could become non-decreasing by modifying at most 1 element.\n",
    "\n",
    "# We define an array is non-decreasing if array[i] <= array[i + 1] holds for every i (1 <= i < n).\n",
    "\n",
    "# Example 1:\n",
    "# Input: [4,2,3]\n",
    "# Output: True\n",
    "# Explanation: You could modify the first \n",
    "# 4 to 1 to get a non-decreasing array.\n",
    "\n",
    "# Example 2:\n",
    "# Input: [4,2,1]\n",
    "# Output: False\n",
    "# Explanation: You can't get a non-decreasing array by modify at most one element.\n",
    "\n",
    "\n",
    "\n",
    "def nonDecArray(nums):\n",
    "    cnt = 0\n",
    "    ans = False\n",
    "    for i in range(len(nums)-1):\n",
    "        print(i)\n",
    "        if(nums[i+1] < nums[i]): # current num is smaller than previous num.\n",
    "            cnt += 1\n",
    "            if(i == 0 or nums[i+1] > nums[i-1]):\n",
    "                nums[i] = nums[i+1]\n",
    "            elif(nums[i-1] > nums[i+1]):\n",
    "                nums[i+1] = nums[i]\n",
    "        if(cnt > 1):\n",
    "            break\n",
    "        \n",
    "    return nums\n",
    "            \n",
    "        \n",
    "nonDecArray([4,2,1])"
   ]
  },
  {
   "cell_type": "code",
   "execution_count": null,
   "metadata": {
    "collapsed": true
   },
   "outputs": [],
   "source": []
  }
 ],
 "metadata": {
  "kernelspec": {
   "display_name": "Python 3",
   "language": "python",
   "name": "python3"
  },
  "language_info": {
   "codemirror_mode": {
    "name": "ipython",
    "version": 3
   },
   "file_extension": ".py",
   "mimetype": "text/x-python",
   "name": "python",
   "nbconvert_exporter": "python",
   "pygments_lexer": "ipython3",
   "version": "3.6.1"
  }
 },
 "nbformat": 4,
 "nbformat_minor": 2
}
