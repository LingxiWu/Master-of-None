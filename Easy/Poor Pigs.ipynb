{
 "cells": [
  {
   "cell_type": "code",
   "execution_count": 2,
   "metadata": {},
   "outputs": [
    {
     "name": "stdout",
     "output_type": "stream",
     "text": [
      "5\n"
     ]
    }
   ],
   "source": [
    "# There are 1000 buckets, one and only one of them contains poison, the rest are filled with water. \n",
    "# They all look the same. If a pig drinks that poison it will die within 15 minutes. \n",
    "# What is the minimum amount of pigs you need to figure out which bucket contains the poison within one hour.\n",
    "\n",
    "# Answer this question, and write an algorithm for the follow-up general case.\n",
    "\n",
    "# Follow-up:\n",
    "\n",
    "# If there are n buckets and a pig drinking poison will die within m minutes, \n",
    "# how many pigs (x) you need to figure out the \"poison\" bucket within p minutes?\n",
    "# There is exact one bucket with poison.\n",
    "\n",
    "# Analysis:\n",
    "# Start from a simple question: what's the maximum number of buckets can a pig test in 60 minutes (if it dies within 15 minutes after\n",
    "# drinking the poison) The answer is 5 buckets.\n",
    "# suppose the pig drinks at time 0 (bucket 1), time 15 (bucket 2), time 30 (bucket 3), and time 45 (bucket 4). \n",
    "# If the pig did not die at time 60, then bucket 5 contains poison. \n",
    "\n",
    "# What if we have two pigs?\n",
    "# 01, 02, 03, 04, 05, \n",
    "# 06, 07, 08, 09, 10, \n",
    "# 11, 12, 13, 14, 15\n",
    "# 16, 17, 18, 19, 20\n",
    "# 21, 22, 23, 24, 25\n",
    "# pig 1 drinks from row 1 to row 5, and pig 2 drinks from column 1 to column 5.\n",
    "# It will take 60 minutes to eliminate 25 buckets. Take a piece of paper and pencil and try it.\n",
    "\n",
    "# We can generalize this rule: N pigs will help us eliminate 5^N buckets.\n",
    "\n",
    "def poorPig(n, m, p):\n",
    "    test_time = p/m\n",
    "    i = 1\n",
    "    while(pow(test_time, i) < n):\n",
    "        i += 1\n",
    "    return i\n",
    "\n",
    "print(poorPig(1000, 15, 60))\n",
    "\n"
   ]
  }
 ],
 "metadata": {
  "kernelspec": {
   "display_name": "Python 3",
   "language": "python",
   "name": "python3"
  },
  "language_info": {
   "codemirror_mode": {
    "name": "ipython",
    "version": 3
   },
   "file_extension": ".py",
   "mimetype": "text/x-python",
   "name": "python",
   "nbconvert_exporter": "python",
   "pygments_lexer": "ipython3",
   "version": "3.6.1"
  }
 },
 "nbformat": 4,
 "nbformat_minor": 2
}
