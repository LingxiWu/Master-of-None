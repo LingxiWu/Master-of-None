{
 "cells": [
  {
   "cell_type": "code",
   "execution_count": 9,
   "metadata": {},
   "outputs": [
    {
     "name": "stdout",
     "output_type": "stream",
     "text": [
      "1\n"
     ]
    }
   ],
   "source": [
    "# Assume you are an awesome parent and want to give your children some cookies. But, you should give each child at most one cookie. Each child i has a greed factor gi, which is the minimum size of a cookie that the child will be content with; and each cookie j has a size sj. If sj >= gi, we can assign the cookie j to the child i, and the child i will be content. Your goal is to maximize the number of your content children and output the maximum number.\n",
    "\n",
    "# Note:\n",
    "# You may assume the greed factor is always positive. \n",
    "# You cannot assign more than one cookie to one child.\n",
    "\n",
    "# Example 1:\n",
    "# Input: [1,2,3], [1,1]\n",
    "\n",
    "# Output: 1\n",
    "\n",
    "# Explanation: You have 3 children and 2 cookies. The greed factors of 3 children are 1, 2, 3. \n",
    "# And even though you have 2 cookies, since their size is both 1, you could only make the child whose greed factor is 1 content.\n",
    "# You need to output 1.\n",
    "# Example 2:\n",
    "# Input: [1,2], [1,2,3]\n",
    "\n",
    "# Output: 2\n",
    "\n",
    "# Explanation: You have 2 children and 3 cookies. The greed factors of 2 children are 1, 2. \n",
    "# You have 3 cookies and their sizes are big enough to gratify all of the children, \n",
    "# You need to output 2.\n",
    "\n",
    "def assignCookies(g, s):\n",
    "    \n",
    "    # g is greediness of children, unsorted.\n",
    "    # s is the size of cookies, unsorted.\n",
    "    \n",
    "    g.sort()\n",
    "    s.sort()\n",
    "    \n",
    "    i = 0\n",
    "    ans = 0\n",
    "    for c in s:\n",
    "        if(c>=g[i]):\n",
    "            ans += 1\n",
    "            i += 1\n",
    "        if(i == len(g)):\n",
    "            break\n",
    "    return(ans)\n",
    "        \n",
    "    \n",
    "    \n",
    "print(assignCookies([1,2,3],[1]))\n",
    "    "
   ]
  },
  {
   "cell_type": "code",
   "execution_count": null,
   "metadata": {
    "collapsed": true
   },
   "outputs": [],
   "source": []
  }
 ],
 "metadata": {
  "kernelspec": {
   "display_name": "Python 3",
   "language": "python",
   "name": "python3"
  },
  "language_info": {
   "codemirror_mode": {
    "name": "ipython",
    "version": 3
   },
   "file_extension": ".py",
   "mimetype": "text/x-python",
   "name": "python",
   "nbconvert_exporter": "python",
   "pygments_lexer": "ipython3",
   "version": "3.6.1"
  }
 },
 "nbformat": 4,
 "nbformat_minor": 2
}
