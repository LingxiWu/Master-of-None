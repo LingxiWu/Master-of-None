{
 "cells": [
  {
   "cell_type": "code",
   "execution_count": 4,
   "metadata": {},
   "outputs": [
    {
     "name": "stdout",
     "output_type": "stream",
     "text": [
      "{1, 2}\n"
     ]
    }
   ],
   "source": [
    "# Given two arrays, write a function to compute their intersection.\n",
    "\n",
    "# Example:\n",
    "# Given nums1 = [1, 2, 2, 1], nums2 = [2, 2], return [2].\n",
    "\n",
    "# Note:\n",
    "# Each element in the result must be unique.\n",
    "# The result can be in any order.\n",
    "\n",
    "# Analysis: python has a set class which holds unique items,\n",
    "#           and \n",
    "\n",
    "def arrayIntersect(nums1, nums2):\n",
    "    \n",
    "    set1 = set(nums1)\n",
    "    set2 = set(nums2)\n",
    "    intersect = set1&set2\n",
    "    \n",
    "    return intersect\n",
    "\n",
    "nums1 = [1, 2, 2, 3, 1]\n",
    "nums2 = [2, 2, 1]\n",
    "print(arrayIntersect(nums1, nums2))\n",
    "    "
   ]
  }
 ],
 "metadata": {
  "kernelspec": {
   "display_name": "Python 3",
   "language": "python",
   "name": "python3"
  },
  "language_info": {
   "codemirror_mode": {
    "name": "ipython",
    "version": 3
   },
   "file_extension": ".py",
   "mimetype": "text/x-python",
   "name": "python",
   "nbconvert_exporter": "python",
   "pygments_lexer": "ipython3",
   "version": "3.6.1"
  }
 },
 "nbformat": 4,
 "nbformat_minor": 2
}
