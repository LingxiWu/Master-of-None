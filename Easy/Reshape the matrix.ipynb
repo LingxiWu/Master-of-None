{
 "cells": [
  {
   "cell_type": "code",
   "execution_count": 15,
   "metadata": {},
   "outputs": [
    {
     "name": "stdout",
     "output_type": "stream",
     "text": [
      "[[ 2.  6.  4.]\n",
      " [ 8.  1.  5.]]\n"
     ]
    }
   ],
   "source": [
    "# Case 1:\n",
    "# Input: \n",
    "# nums = \n",
    "# [[1,2],\n",
    "#  [3,4]]\n",
    "# r = 1, c = 4\n",
    "# Output: \n",
    "# [[1,2,3,4]]\n",
    "\n",
    "# Case 2:\n",
    "# Input: \n",
    "# nums = \n",
    "# [[1,2],\n",
    "#  [3,4]]\n",
    "# r = 2, c = 4\n",
    "# Output: \n",
    "# [[1,2],\n",
    "#  [3,4]]\n",
    "# There is no way to reshape a 2 * 2 matrix to a 2 * 4 matrix. So output the original matrix.\n",
    "\n",
    "# The most straightforward way is to read every element into a queue and dump them to new matrix with desired size.\n",
    "\n",
    "# Slightly better way.\n",
    "import numpy as np\n",
    "m = np.array([[2,6],[4,8],[1,5]])\n",
    "\n",
    "def reShape(matrix, r, c):\n",
    "    if(r*c != matrix.shape[0]*matrix.shape[1]):\n",
    "        return matrix   \n",
    "    else:\n",
    "        row = 0\n",
    "        col = 0\n",
    "        reshaped = np.empty([r,c])\n",
    "        for i in range(matrix.shape[0]):\n",
    "            for j in range(matrix.shape[1]):\n",
    "                reshaped[row][col] = matrix[i][j]\n",
    "                col += 1\n",
    "                if(col == c):\n",
    "                    col = 0\n",
    "                    row += 1\n",
    "        return reshaped\n",
    "\n",
    "print(reShape(m,2,3))"
   ]
  }
 ],
 "metadata": {
  "kernelspec": {
   "display_name": "Python 3",
   "language": "python",
   "name": "python3"
  },
  "language_info": {
   "codemirror_mode": {
    "name": "ipython",
    "version": 3
   },
   "file_extension": ".py",
   "mimetype": "text/x-python",
   "name": "python",
   "nbconvert_exporter": "python",
   "pygments_lexer": "ipython3",
   "version": "3.6.1"
  }
 },
 "nbformat": 4,
 "nbformat_minor": 2
}
