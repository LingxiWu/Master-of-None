{
 "cells": [
  {
   "cell_type": "code",
   "execution_count": 10,
   "metadata": {},
   "outputs": [
    {
     "name": "stdout",
     "output_type": "stream",
     "text": [
      "1(2()(4))(3)\n",
      "1(2(4))(3)\n"
     ]
    }
   ],
   "source": [
    "# You need to construct a string consists of parenthesis and integers from a binary tree \n",
    "# with the preorder traversing way.\n",
    "\n",
    "# The null node needs to be represented by empty parenthesis pair \"()\". \n",
    "# And you need to omit all the empty parenthesis pairs that \n",
    "# don't affect the one-to-one mapping relationship between the string and the original binary tree.\n",
    "\n",
    "# Input: Binary tree: [1,2,3,4]\n",
    "#        1\n",
    "#      /   \\\n",
    "#     2     3\n",
    "#    /    \n",
    "#   4     \n",
    "\n",
    "# Output: \"1(2(4))(3)\"\n",
    "\n",
    "# Explanation: Originallay it needs to be \"1(2(4)())(3()())\", \n",
    "# but you need to omit all the unnecessary empty parenthesis pairs. \n",
    "# And it will be \"1(2(4))(3)\".\n",
    "\n",
    "# Input: Binary tree: [1,2,3,null,4]\n",
    "#        1\n",
    "#      /   \\\n",
    "#     2     3\n",
    "#      \\  \n",
    "#       4 \n",
    "\n",
    "# Output: \"1(2()(4))(3)\"\n",
    "\n",
    "# Explanation: Almost the same as the first example, \n",
    "# except we can't omit the first parenthesis pair to break the one-to-one mapping relationship between the input and the output.\n",
    "\n",
    "# Analysis: pre-order tree traverse is Root -> Left -> Right\n",
    "class BinaryTreeNode:\n",
    "    def __init__(self, val):\n",
    "        self.left = None\n",
    "        self.right = None\n",
    "        self.value = val\n",
    "        \n",
    "def tree2Str(binaryTreeNode):\n",
    "    if not binaryTreeNode: # if treeNode is none, return empty string.\n",
    "        return ''\n",
    "    ans = str(binaryTreeNode.value)\n",
    "    if(not binaryTreeNode.left and not binaryTreeNode.right):\n",
    "        return ans\n",
    "    if not binaryTreeNode.left:\n",
    "        ans += '()'\n",
    "    elif (binaryTreeNode.left != None):\n",
    "        l = tree2Str(binaryTreeNode.left)\n",
    "        ans += '(' + l + ')'\n",
    "    if (binaryTreeNode.right != None):\n",
    "        r = tree2Str(binaryTreeNode.right)\n",
    "        ans += '(' + r + ')'\n",
    "    return ans\n",
    "\n",
    "\n",
    "t1 = BinaryTreeNode(1)    \n",
    "t1.left = BinaryTreeNode(2)\n",
    "t1.right = BinaryTreeNode(3)\n",
    "t1.left.right = BinaryTreeNode(4)\n",
    "\n",
    "str_t1 = tree2Str(t1)\n",
    "print(str_t1)\n",
    "\n",
    "t2 = BinaryTreeNode(1)    \n",
    "t2.left = BinaryTreeNode(2)\n",
    "t2.right = BinaryTreeNode(3)\n",
    "t2.left.left = BinaryTreeNode(4)\n",
    "\n",
    "str_t2 = tree2Str(t2)\n",
    "print(str_t2)"
   ]
  }
 ],
 "metadata": {
  "kernelspec": {
   "display_name": "Python 3",
   "language": "python",
   "name": "python3"
  },
  "language_info": {
   "codemirror_mode": {
    "name": "ipython",
    "version": 3
   },
   "file_extension": ".py",
   "mimetype": "text/x-python",
   "name": "python",
   "nbconvert_exporter": "python",
   "pygments_lexer": "ipython3",
   "version": "3.6.1"
  }
 },
 "nbformat": 4,
 "nbformat_minor": 2
}
