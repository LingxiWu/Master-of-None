{
 "cells": [
  {
   "cell_type": "code",
   "execution_count": 7,
   "metadata": {},
   "outputs": [
    {
     "name": "stdout",
     "output_type": "stream",
     "text": [
      "5\n"
     ]
    }
   ],
   "source": [
    "# You are climbing a stair case. It takes n steps to reach to the top.\n",
    "\n",
    "# Each time you can either climb 1 or 2 steps. In how many distinct ways can you climb to the top?\n",
    "\n",
    "# Note: Given n will be a positive integer.\n",
    "\n",
    "\n",
    "# Example 1:\n",
    "\n",
    "# Input: 2\n",
    "# Output:  2\n",
    "# Explanation:  There are two ways to climb to the top.\n",
    "\n",
    "# 1. 1 step + 1 step\n",
    "# 2. 2 steps\n",
    "# Example 2:\n",
    "\n",
    "# Input: 3\n",
    "# Output:  3\n",
    "# Explanation:  There are three ways to climb to the top.\n",
    "\n",
    "# 1. 1 step + 1 step + 1 step\n",
    "# 2. 1 step + 2 steps\n",
    "# 3. 2 steps + 1 step\n",
    "\n",
    "# Analysis:\n",
    "# 1 -> [1] -> 1\n",
    "# 2 -> [1,1], [2] -> 2\n",
    "# 3 -> [1,2], [1,1,1], [2,1] -> 3\n",
    "# 4 -> [1,1,2], [2,2], [1,2,1], [1,1,1,1], [2,1,1] -> 5\n",
    "# 5 -> [1,2,2], [1,1,1,2], [2,1,2], [1,1,2,1], [2,2,1], [1,2,1,1], [1,1,1,1,1], [2,1,1,1] -> 8\n",
    "\n",
    "# if we want to get to step 5, we only need to take 2 steps to get to step 5, and 1 step to get to step 5.\n",
    "\n",
    "def climbStairs(n):\n",
    "    ans = 0\n",
    "    if(n == 1):\n",
    "        ans = 1\n",
    "    elif( n == 2):\n",
    "        ans = 2\n",
    "    else:\n",
    "        ans += climbStairs(n-1) + climbStairs(n-2)\n",
    "    \n",
    "    return ans\n",
    "\n",
    "print(climbStairs(4))\n",
    "    "
   ]
  },
  {
   "cell_type": "code",
   "execution_count": null,
   "metadata": {
    "collapsed": true
   },
   "outputs": [],
   "source": []
  }
 ],
 "metadata": {
  "kernelspec": {
   "display_name": "Python 3",
   "language": "python",
   "name": "python3"
  },
  "language_info": {
   "codemirror_mode": {
    "name": "ipython",
    "version": 3
   },
   "file_extension": ".py",
   "mimetype": "text/x-python",
   "name": "python",
   "nbconvert_exporter": "python",
   "pygments_lexer": "ipython3",
   "version": "3.6.1"
  }
 },
 "nbformat": 4,
 "nbformat_minor": 2
}
