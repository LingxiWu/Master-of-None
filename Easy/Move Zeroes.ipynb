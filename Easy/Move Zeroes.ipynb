{
 "cells": [
  {
   "cell_type": "code",
   "execution_count": 10,
   "metadata": {},
   "outputs": [
    {
     "name": "stdout",
     "output_type": "stream",
     "text": [
      "[1, 3, 12, 0, 0]\n"
     ]
    }
   ],
   "source": [
    "# Given an array nums, \n",
    "# write a function to move all 0's to the end of it while maintaining the relative order of the non-zero elements.\n",
    "\n",
    "# For example, given nums = [0, 1, 0, 3, 12], after calling your function, nums should be [1, 3, 12, 0, 0].\n",
    "\n",
    "# Note:\n",
    "# You must do this in-place without making a copy of the array.\n",
    "# Minimize the total number of operations.\n",
    "\n",
    "# Use two pointers/index, one always points to non-zero element (i), the other one points to zero element (z)\n",
    "\n",
    "nums = [0, 1, 0, 3, 12]\n",
    "\n",
    "def moveZeroes(nums):\n",
    "    z = -1 # pointer points to zero element.\n",
    "    for i in range(len(nums)):\n",
    "        if(nums[i] == 0):\n",
    "            if(nums[z] != 0):\n",
    "                z = i\n",
    "        else:\n",
    "            if(z != -1 and nums[z] == 0):\n",
    "                temp = nums[i]\n",
    "                nums[i] = 0\n",
    "                nums[z] = temp\n",
    "                z += 1\n",
    "    return nums\n",
    "        \n",
    "print(moveZeroes(nums))"
   ]
  }
 ],
 "metadata": {
  "kernelspec": {
   "display_name": "Python 3",
   "language": "python",
   "name": "python3"
  },
  "language_info": {
   "codemirror_mode": {
    "name": "ipython",
    "version": 3
   },
   "file_extension": ".py",
   "mimetype": "text/x-python",
   "name": "python",
   "nbconvert_exporter": "python",
   "pygments_lexer": "ipython3",
   "version": "3.6.1"
  }
 },
 "nbformat": 4,
 "nbformat_minor": 2
}
