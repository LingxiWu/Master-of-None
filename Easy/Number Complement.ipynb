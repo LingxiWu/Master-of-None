{
 "cells": [
  {
   "cell_type": "code",
   "execution_count": 27,
   "metadata": {},
   "outputs": [
    {
     "name": "stdout",
     "output_type": "stream",
     "text": [
      "0110\n"
     ]
    }
   ],
   "source": [
    "# Given a positive integer, output its complement number. The complement strategy is to flip the bits of its binary representation.\n",
    "\n",
    "# Input: 5\n",
    "# Output: 2\n",
    "# Explanation: The binary representation of 5 is 101 (no leading zero bits), and its complement is 010. So you need to output 2.\n",
    "    \n",
    "# Input: 1\n",
    "# Output: 0\n",
    "# Explanation: The binary representation of 1 is 1 (no leading zero bits), and its complement is 0. So you need to output 0.\n",
    "    \n",
    "# Python bitwise operator: \n",
    "# a = 60            # 60 = 0011 1100 \n",
    "# c = a << 2;       # 240 = 1111 0000\n",
    "# c = ~a;           # -61 = 1100 0011\n",
    "\n",
    "def complementNum(num):\n",
    "    binary = bin(num)[2:]\n",
    "    ans = ''\n",
    "    for d in range(len(binary)):\n",
    "        if(binary[d] == '0'):\n",
    "            ans+='1'\n",
    "        elif(binary[d] == '1'):\n",
    "            ans+='0'\n",
    "    return ans\n",
    "\n",
    "print(complementNum(9))\n"
   ]
  },
  {
   "cell_type": "code",
   "execution_count": null,
   "metadata": {
    "collapsed": true
   },
   "outputs": [],
   "source": []
  }
 ],
 "metadata": {
  "kernelspec": {
   "display_name": "Python 3",
   "language": "python",
   "name": "python3"
  },
  "language_info": {
   "codemirror_mode": {
    "name": "ipython",
    "version": 3
   },
   "file_extension": ".py",
   "mimetype": "text/x-python",
   "name": "python",
   "nbconvert_exporter": "python",
   "pygments_lexer": "ipython3",
   "version": "3.6.1"
  }
 },
 "nbformat": 4,
 "nbformat_minor": 2
}
