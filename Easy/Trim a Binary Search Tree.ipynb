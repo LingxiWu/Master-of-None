{
 "cells": [
  {
   "cell_type": "code",
   "execution_count": 28,
   "metadata": {},
   "outputs": [
    {
     "name": "stdout",
     "output_type": "stream",
     "text": [
      "2\n"
     ]
    }
   ],
   "source": [
    "# Given a binary search tree and the lowest and highest boundaries as L and R,\n",
    "# trim the tree so that all its elements lies in [L, R] (R >= L). \n",
    "# You might need to change the root of the tree, \n",
    "# so the result should return the new root of the trimmed binary search tree.\n",
    "\n",
    "# Input: \n",
    "#     3\n",
    "#    / \\\n",
    "#   0   4\n",
    "#    \\\n",
    "#     2\n",
    "#    /\n",
    "#   1\n",
    "\n",
    "#   L = 1\n",
    "#   R = 3\n",
    "\n",
    "# Output: \n",
    "#       3\n",
    "#      / \n",
    "#    2   \n",
    "#   /\n",
    "#  1\n",
    "\n",
    "# Analysis: Binary Search Tree (BST) is a type of binary tree which all the left child nodes are smaller than the root,\n",
    "#           and all of its right child node are larger than the root.\n",
    "\n",
    "class BSTNode:\n",
    "    def __init__(self, val):\n",
    "        self.left = None\n",
    "        self.right = None\n",
    "        self.value = val\n",
    "\n",
    "def trim(treeNode, L, R):\n",
    "    if(treeNode == None):\n",
    "        return None\n",
    "    elif(treeNode.value < L): # if root < lower bound, then right child node might be in the range\n",
    "        return trim(treeNode.right, L, R)\n",
    "    elif(treeNode.value > R): # if root > upper bound, then left child node might be in the range\n",
    "        return trim(treeNode.left, L, R)\n",
    "        \n",
    "    treeNode.left = trim(treeNode.left, L, R)\n",
    "    treeNode.right = trim(treeNode.right, L, R)\n",
    "        \n",
    "    return treeNode\n",
    "    \n",
    "t = BSTNode(3)    \n",
    "t.left = BSTNode(0)\n",
    "t.right = BSTNode(4)\n",
    "t.left.right = BSTNode(2)\n",
    "t.left.right.left = BSTNode(1)\n",
    "\n",
    "t = trim(t, 1, 3)\n",
    "print(t.left.value)"
   ]
  },
  {
   "cell_type": "code",
   "execution_count": null,
   "metadata": {
    "collapsed": true
   },
   "outputs": [],
   "source": []
  }
 ],
 "metadata": {
  "kernelspec": {
   "display_name": "Python 3",
   "language": "python",
   "name": "python3"
  },
  "language_info": {
   "codemirror_mode": {
    "name": "ipython",
    "version": 3
   },
   "file_extension": ".py",
   "mimetype": "text/x-python",
   "name": "python",
   "nbconvert_exporter": "python",
   "pygments_lexer": "ipython3",
   "version": "3.6.1"
  }
 },
 "nbformat": 4,
 "nbformat_minor": 2
}
