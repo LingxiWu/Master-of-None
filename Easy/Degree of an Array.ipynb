{
 "cells": [
  {
   "cell_type": "code",
   "execution_count": 58,
   "metadata": {},
   "outputs": [
    {
     "name": "stdout",
     "output_type": "stream",
     "text": [
      "1\n",
      "2\n"
     ]
    }
   ],
   "source": [
    "# Given a non-empty array of non-negative integers nums, \n",
    "# the degree of this array is defined as the maximum frequency of any one of its elements.\n",
    "\n",
    "# Your task is to find the smallest possible length of a (contiguous) subarray of nums, \n",
    "# that has the same degree as nums.\n",
    "\n",
    "# Example 1:\n",
    "# Input: [1, 2, 2, 3, 1]\n",
    "# Output: 2\n",
    "# Explanation: \n",
    "# The input array has a degree of 2 because both elements 1 and 2 appear twice.\n",
    "# Of the subarrays that have the same degree:\n",
    "# [1, 2, 2, 3, 1], [1, 2, 2, 3], [2, 2, 3, 1], [1, 2, 2], [2, 2, 3], [2, 2]\n",
    "# The shortest length is 2. So return 2.\n",
    "\n",
    "# Example 2:\n",
    "# Input: [1,2,2,3,1,4,2]\n",
    "# Output: 6\n",
    "\n",
    "# dict1 = {a: 2, b: 2, c: 1}\n",
    "# dict1.values() = [2,2,1]\n",
    "# dict1.keys() = [a,b,c]\n",
    "# dict1.items() = [(a,2), (b,2), (c,1)]\n",
    "\n",
    "\n",
    "from collections import Counter\n",
    "\n",
    "def degreeOfAnArray(nums):\n",
    "    left, right, count = {}, {}, {} # left: first occurrence, right: last occurrence, count: counter of occurrences.\n",
    "    for index, num in enumerate(nums):\n",
    "        if num not in left: \n",
    "            left[num] = index\n",
    "        right[num] = index\n",
    "        count[num] = count.get(num, 0) + 1 # .get(num, 0) return 0 if not there yet.\n",
    "    \n",
    "    possible_distance = []\n",
    "    degree = max(count.values())\n",
    "    for key in count.keys(): \n",
    "        if(count.get(key) == degree):\n",
    "            possible_distance.append(right[key] - left[key] + 1)\n",
    "    an\n",
    "    \n",
    "    \n",
    "    \n",
    "list = [1,2,2,3,1]\n",
    "degreeOfAnArray(list)"
   ]
  }
 ],
 "metadata": {
  "kernelspec": {
   "display_name": "Python 3",
   "language": "python",
   "name": "python3"
  },
  "language_info": {
   "codemirror_mode": {
    "name": "ipython",
    "version": 3
   },
   "file_extension": ".py",
   "mimetype": "text/x-python",
   "name": "python",
   "nbconvert_exporter": "python",
   "pygments_lexer": "ipython3",
   "version": "3.6.1"
  }
 },
 "nbformat": 4,
 "nbformat_minor": 2
}
