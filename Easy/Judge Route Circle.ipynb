{
 "cells": [
  {
   "cell_type": "code",
   "execution_count": 2,
   "metadata": {},
   "outputs": [
    {
     "name": "stdout",
     "output_type": "stream",
     "text": [
      "True\n"
     ]
    }
   ],
   "source": [
    "# Initially, there is a Robot at position (0, 0). \n",
    "# Given a sequence of its moves, judge if this robot makes a circle, which means it moves back to the original place.\n",
    "\n",
    "# The move sequence is represented by a string. And each move is represent by a character. \n",
    "# The valid robot moves are R (Right), L (Left), U (Up) and D (down). \n",
    "# The output should be true or false representing whether the robot makes a circle.\n",
    "\n",
    "# Example 1:\n",
    "# Input: \"UD\"\n",
    "# Output: true\n",
    "\n",
    "# Example 2:\n",
    "# Input: \"LL\"\n",
    "# Output: false\n",
    "\n",
    "# Analysis:\n",
    "# The location of the robot can be represented as a (x, y) coordinate.\n",
    "# L: x++, R: x--, U: y++, D: y--. At the end we evaluated if (x, y) = (0, 0). Or we can simply check if the num(L) == num(R)\n",
    "# and num(U) == num(D)\n",
    "\n",
    "def judgeRouteCircle(moves):\n",
    "    return moves.count('L') == moves.count('R') and moves.count('U') == moves.count('D')\n",
    "\n",
    "print(judgeRouteCircle('UD'))"
   ]
  }
 ],
 "metadata": {
  "kernelspec": {
   "display_name": "Python 3",
   "language": "python",
   "name": "python3"
  },
  "language_info": {
   "codemirror_mode": {
    "name": "ipython",
    "version": 3
   },
   "file_extension": ".py",
   "mimetype": "text/x-python",
   "name": "python",
   "nbconvert_exporter": "python",
   "pygments_lexer": "ipython3",
   "version": "3.6.1"
  }
 },
 "nbformat": 4,
 "nbformat_minor": 2
}
