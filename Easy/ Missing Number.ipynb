{
 "cells": [
  {
   "cell_type": "code",
   "execution_count": 6,
   "metadata": {},
   "outputs": [
    {
     "data": {
      "text/plain": [
       "5"
      ]
     },
     "execution_count": 6,
     "metadata": {},
     "output_type": "execute_result"
    }
   ],
   "source": [
    "# Given an array containing n distinct numbers taken from 0, 1, 2, ..., n, find the one that is missing from the array.\n",
    "\n",
    "# For example,\n",
    "# Given nums = [0, 1, 3] return 2.\n",
    "\n",
    "# Note:\n",
    "# Your algorithm should run in linear runtime complexity. \n",
    "# Could you implement it using only constant extra space complexity?\n",
    "\n",
    "# Credits:\n",
    "# Special thanks to @jianchao.li.fighter for adding this problem and creating all test cases.\n",
    "\n",
    "def missingNum(nums):\n",
    "    sm1 = sum(nums)\n",
    "    sm2 = len(nums)*((len(nums)+1))/2\n",
    "    return int(sm2 - sm1)\n",
    "missingNum([0,1,2,3,4])"
   ]
  },
  {
   "cell_type": "code",
   "execution_count": null,
   "metadata": {
    "collapsed": true
   },
   "outputs": [],
   "source": []
  }
 ],
 "metadata": {
  "kernelspec": {
   "display_name": "Python 3",
   "language": "python",
   "name": "python3"
  },
  "language_info": {
   "codemirror_mode": {
    "name": "ipython",
    "version": 3
   },
   "file_extension": ".py",
   "mimetype": "text/x-python",
   "name": "python",
   "nbconvert_exporter": "python",
   "pygments_lexer": "ipython3",
   "version": "3.6.1"
  }
 },
 "nbformat": 4,
 "nbformat_minor": 2
}
