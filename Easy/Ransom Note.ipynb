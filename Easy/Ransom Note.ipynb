{
 "cells": [
  {
   "cell_type": "code",
   "execution_count": 4,
   "metadata": {},
   "outputs": [
    {
     "ename": "NameError",
     "evalue": "name 'randomNote' is not defined",
     "output_type": "error",
     "traceback": [
      "\u001b[0;31m---------------------------------------------------------------------------\u001b[0m",
      "\u001b[0;31mNameError\u001b[0m                                 Traceback (most recent call last)",
      "\u001b[0;32m<ipython-input-4-e99894c42a34>\u001b[0m in \u001b[0;36m<module>\u001b[0;34m()\u001b[0m\n\u001b[1;32m     27\u001b[0m     \u001b[0;32mreturn\u001b[0m \u001b[0;32mTrue\u001b[0m\u001b[0;34m\u001b[0m\u001b[0m\n\u001b[1;32m     28\u001b[0m \u001b[0;34m\u001b[0m\u001b[0m\n\u001b[0;32m---> 29\u001b[0;31m \u001b[0mransomNote\u001b[0m\u001b[0;34m(\u001b[0m\u001b[0;34m'aab'\u001b[0m\u001b[0;34m,\u001b[0m\u001b[0;34m'bbba'\u001b[0m\u001b[0;34m)\u001b[0m\u001b[0;34m\u001b[0m\u001b[0m\n\u001b[0m",
      "\u001b[0;32m<ipython-input-4-e99894c42a34>\u001b[0m in \u001b[0;36mransomNote\u001b[0;34m(ransomNote, magazine)\u001b[0m\n\u001b[1;32m     18\u001b[0m \u001b[0;32mimport\u001b[0m \u001b[0mcollections\u001b[0m\u001b[0;34m\u001b[0m\u001b[0m\n\u001b[1;32m     19\u001b[0m \u001b[0;32mdef\u001b[0m \u001b[0mransomNote\u001b[0m\u001b[0;34m(\u001b[0m\u001b[0mransomNote\u001b[0m\u001b[0;34m,\u001b[0m \u001b[0mmagazine\u001b[0m\u001b[0;34m)\u001b[0m\u001b[0;34m:\u001b[0m\u001b[0;34m\u001b[0m\u001b[0m\n\u001b[0;32m---> 20\u001b[0;31m     \u001b[0;32mif\u001b[0m\u001b[0;34m(\u001b[0m\u001b[0mlen\u001b[0m\u001b[0;34m(\u001b[0m\u001b[0mrandomNote\u001b[0m\u001b[0;34m)\u001b[0m \u001b[0;34m>\u001b[0m \u001b[0mlen\u001b[0m\u001b[0;34m(\u001b[0m\u001b[0mmagazine\u001b[0m\u001b[0;34m)\u001b[0m\u001b[0;34m)\u001b[0m\u001b[0;34m:\u001b[0m\u001b[0;34m\u001b[0m\u001b[0m\n\u001b[0m\u001b[1;32m     21\u001b[0m         \u001b[0;32mreturn\u001b[0m \u001b[0;32mFalse\u001b[0m\u001b[0;34m\u001b[0m\u001b[0m\n\u001b[1;32m     22\u001b[0m     \u001b[0mcnt\u001b[0m \u001b[0;34m=\u001b[0m \u001b[0mcollections\u001b[0m\u001b[0;34m.\u001b[0m\u001b[0mCounter\u001b[0m\u001b[0;34m(\u001b[0m\u001b[0mmagazine\u001b[0m\u001b[0;34m)\u001b[0m\u001b[0;34m\u001b[0m\u001b[0m\n",
      "\u001b[0;31mNameError\u001b[0m: name 'randomNote' is not defined"
     ]
    }
   ],
   "source": [
    "# Given an arbitrary ransom note string and another string containing letters from all the magazines, \n",
    "# write a function that will return true if the ransom note can be constructed from the magazines ; \n",
    "# otherwise, it will return false.\n",
    "\n",
    "# Each letter in the magazine string can only be used once in your ransom note.\n",
    "# You may assume that both strings contain only lowercase letters.\n",
    "\n",
    "# Analysis: \n",
    "# We only need to check if the ransom note letters are contained in magazine.\n",
    "# Let's explore a powerful data structure of python: Counter, which belongs to collextions\n",
    "\n",
    "# >>> # Tally occurrences of words in a list\n",
    "# >>> cnt = Counter()\n",
    "# >>> for word in ['red', 'blue', 'red', 'green', 'blue', 'blue']:\n",
    "# ...     cnt[word] += 1\n",
    "# >>> cnt\n",
    "# Counter({'blue': 3, 'red': 2, 'green': 1})\n",
    "import collections\n",
    "def ransomNote(ransomNote, magazine):\n",
    "    if(len(ransomNote) > len(magazine)):\n",
    "        return False\n",
    "    cnt = collections.Counter(magazine)\n",
    "    for letter in ransomNote:\n",
    "        cnt[letter] -= 1\n",
    "        if(cnt[letter]<0):\n",
    "            return False\n",
    "    return True\n",
    "\n",
    "ransomNote('aab','bbba')"
   ]
  }
 ],
 "metadata": {
  "kernelspec": {
   "display_name": "Python 3",
   "language": "python",
   "name": "python3"
  },
  "language_info": {
   "codemirror_mode": {
    "name": "ipython",
    "version": 3
   },
   "file_extension": ".py",
   "mimetype": "text/x-python",
   "name": "python",
   "nbconvert_exporter": "python",
   "pygments_lexer": "ipython3",
   "version": "3.6.1"
  }
 },
 "nbformat": 4,
 "nbformat_minor": 2
}
