{
 "cells": [
  {
   "cell_type": "code",
   "execution_count": 8,
   "metadata": {},
   "outputs": [
    {
     "name": "stdout",
     "output_type": "stream",
     "text": [
      "4\n"
     ]
    }
   ],
   "source": [
    "# Given a binary tree, find its maximum depth.\n",
    "\n",
    "# The maximum depth is the number of nodes along the longest path from the root node down to the farthest leaf node.\n",
    "\n",
    "class Node:\n",
    "    def __init__(self, v):\n",
    "        self.left = None\n",
    "        self.right = None\n",
    "        self.value = v\n",
    "\n",
    "def findDepth(node, n):\n",
    "    if not node:\n",
    "        return n\n",
    "    elif(node.left == None and node.right == None):\n",
    "        return n + 1\n",
    "    else:\n",
    "        left_depth = findDepth(node.left, n + 1)\n",
    "        right_depth = findDepth(node.right, n + 1)\n",
    "        return max(left_depth, right_depth)\n",
    "    \n",
    "tree = Node(6)\n",
    "tree.left = Node(7)\n",
    "tree.right = Node(3)\n",
    "tree.left.left = Node(2)\n",
    "tree.left.right = Node(9)\n",
    "tree.left.right.right = Node(3)\n",
    "\n",
    "print(findDepth(tree, 0))"
   ]
  },
  {
   "cell_type": "code",
   "execution_count": null,
   "metadata": {
    "collapsed": true
   },
   "outputs": [],
   "source": []
  }
 ],
 "metadata": {
  "kernelspec": {
   "display_name": "Python 3",
   "language": "python",
   "name": "python3"
  },
  "language_info": {
   "codemirror_mode": {
    "name": "ipython",
    "version": 3
   },
   "file_extension": ".py",
   "mimetype": "text/x-python",
   "name": "python",
   "nbconvert_exporter": "python",
   "pygments_lexer": "ipython3",
   "version": "3.6.1"
  }
 },
 "nbformat": 4,
 "nbformat_minor": 2
}
