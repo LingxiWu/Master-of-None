{
 "cells": [
  {
   "cell_type": "code",
   "execution_count": 2,
   "metadata": {},
   "outputs": [
    {
     "name": "stdout",
     "output_type": "stream",
     "text": [
      "[3, 4, 8, 9]\n",
      "max: 9\n",
      "min: 3\n",
      "[4, 5, 9, 9]\n",
      "max: 9\n",
      "min: 4\n",
      "[5, 6, 9, 10]\n",
      "max: 10\n",
      "min: 5\n",
      "[6, 7, 10, 10]\n",
      "max: 10\n",
      "min: 6\n",
      "[7, 8, 10, 11]\n",
      "max: 11\n",
      "min: 7\n",
      "[8, 9, 11, 11]\n",
      "max: 11\n",
      "min: 8\n",
      "[9, 10, 11, 12]\n",
      "max: 12\n",
      "min: 9\n",
      "[10, 11, 12, 12]\n",
      "max: 12\n",
      "min: 10\n",
      "[11, 12, 12, 13]\n",
      "max: 13\n",
      "min: 11\n",
      "[12, 13, 13, 13]\n",
      "max: 13\n",
      "min: 12\n",
      "[13, 13, 14, 14]\n",
      "max: 14\n",
      "min: 13\n",
      "[14, 14, 14, 15]\n",
      "max: 15\n",
      "min: 14\n",
      "[15, 15, 15, 15]\n",
      "max: 15\n",
      "min: 15\n",
      "40\n"
     ]
    }
   ],
   "source": [
    "# Given a non-empty integer array of size n, find the minimum number of moves required to make all array elements equal, \n",
    "# where a move is incrementing n - 1 elements by 1.\n",
    "\n",
    "# Example:\n",
    "\n",
    "# Input:\n",
    "# [1,2,3]\n",
    "\n",
    "# Output:\n",
    "# 3\n",
    "\n",
    "# Explanation:\n",
    "# Only three moves are needed (remember each move increments two elements):\n",
    "\n",
    "# [1,2,3]  =>  [2,3,3]  =>  [3,4,3]  =>  [4,4,4]\n",
    "\n",
    "# Analysis: find maximum element's index, then increase everybody else's value by one. Iterate\n",
    "def minMoveArray(array):\n",
    "    c = 1\n",
    "    while(max(array) != min(array)):\n",
    "        largest_index = array.index(max(array))\n",
    "        for i in range(len(array)):\n",
    "            if(i != largest_index):\n",
    "                array[i] += 1   \n",
    "        c += 1        \n",
    "        print(array)\n",
    "        print(\"max: {}\".format(max(array)))\n",
    "        print(\"min: {}\".format(min(array)))\n",
    "    return c\n",
    "    \n",
    "\n",
    "print(minMoveArray([2,3,7,9]))   "
   ]
  }
 ],
 "metadata": {
  "kernelspec": {
   "display_name": "Python 3",
   "language": "python",
   "name": "python3"
  },
  "language_info": {
   "codemirror_mode": {
    "name": "ipython",
    "version": 3
   },
   "file_extension": ".py",
   "mimetype": "text/x-python",
   "name": "python",
   "nbconvert_exporter": "python",
   "pygments_lexer": "ipython3",
   "version": "3.6.1"
  }
 },
 "nbformat": 4,
 "nbformat_minor": 2
}
