{
 "cells": [
  {
   "cell_type": "code",
   "execution_count": 6,
   "metadata": {},
   "outputs": [
    {
     "name": "stdout",
     "output_type": "stream",
     "text": [
      "[2, 3, 3]\n",
      "max: 3\n",
      "min: 2\n",
      "[3, 3, 4]\n",
      "max: 4\n",
      "min: 3\n",
      "[4, 4, 4]\n",
      "max: 4\n",
      "min: 4\n",
      "3\n"
     ]
    }
   ],
   "source": [
    "# Given a non-empty integer array of size n, find the minimum number of moves required to make all array elements equal, \n",
    "# where a move is incrementing n - 1 elements by 1.\n",
    "\n",
    "# Example:\n",
    "\n",
    "# Input:\n",
    "# [1,2,3]\n",
    "\n",
    "# Output:\n",
    "# 3\n",
    "\n",
    "# Explanation:\n",
    "# Only three moves are needed (remember each move increments two elements):\n",
    "\n",
    "# [1,2,3]  =>  [2,3,3]  =>  [3,4,3]  =>  [4,4,4]\n",
    "\n",
    "# Analysis: find maximum element's index, then increase everybody else's value by one. Iterate\n",
    "def minMoveArray(array):\n",
    "    c = 0\n",
    "    while(max(array) != min(array)):\n",
    "        largest_index = array.index(max(array))\n",
    "        for i in range(len(array)):\n",
    "            if(i != largest_index):\n",
    "                array[i] += 1   \n",
    "        c += 1        \n",
    "        print(array)\n",
    "        print(\"max: {}\".format(max(array)))\n",
    "        print(\"min: {}\".format(min(array)))\n",
    "    return c\n",
    "    \n",
    "\n",
    "print(minMoveArray([1,2,3]))   "
   ]
  }
 ],
 "metadata": {
  "kernelspec": {
   "display_name": "Python 3",
   "language": "python",
   "name": "python3"
  },
  "language_info": {
   "codemirror_mode": {
    "name": "ipython",
    "version": 3
   },
   "file_extension": ".py",
   "mimetype": "text/x-python",
   "name": "python",
   "nbconvert_exporter": "python",
   "pygments_lexer": "ipython3",
   "version": "3.6.1"
  }
 },
 "nbformat": 4,
 "nbformat_minor": 2
}
