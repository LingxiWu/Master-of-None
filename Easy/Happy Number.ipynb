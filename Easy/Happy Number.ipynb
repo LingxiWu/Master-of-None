{
 "cells": [
  {
   "cell_type": "code",
   "execution_count": 3,
   "metadata": {},
   "outputs": [],
   "source": [
    "# Write an algorithm to determine if a number is \"happy\".\n",
    "\n",
    "# A happy number is a number defined by the following process: Starting with any positive integer, \n",
    "# replace the number by the sum of the squares of its digits, and repeat the process until the number equals 1 \n",
    "# (where it will stay), or it loops endlessly in a cycle which does not include 1. \n",
    "# Those numbers for which this process ends in 1 are happy numbers.\n",
    "\n",
    "# Example: 19 is a happy number\n",
    "\n",
    "# 12 + 92 = 82\n",
    "# 82 + 22 = 68\n",
    "# 62 + 82 = 100\n",
    "# 12 + 02 + 02 = 1\n"
   ]
  },
  {
   "cell_type": "code",
   "execution_count": 4,
   "metadata": {},
   "outputs": [
    {
     "name": "stdout",
     "output_type": "stream",
     "text": [
      "51\n",
      "{1, 50, 51, 49}\n",
      "False\n"
     ]
    }
   ],
   "source": [
    "def isHappyNumber(num):\n",
    "    if(num == 1):\n",
    "        return True\n",
    "    while(True):\n",
    "        nums = {1}\n",
    "        res = 0\n",
    "        # iterate through digits.\n",
    "        while(num/10!=0):\n",
    "            digit = num%10 \n",
    "            res += digit*digit\n",
    "            nums.add(res)\n",
    "            num = int(num/10)\n",
    "        if res == 1:\n",
    "            return True\n",
    "        else:\n",
    "            print(res)\n",
    "            print(nums)\n",
    "            if res in nums:\n",
    "                return False\n",
    "            nums.add(res)\n",
    "            num = res\n",
    "    print(nums)\n",
    "    \n",
    "print(isHappyNumber(117))"
   ]
  },
  {
   "cell_type": "code",
   "execution_count": null,
   "metadata": {},
   "outputs": [],
   "source": []
  },
  {
   "cell_type": "code",
   "execution_count": null,
   "metadata": {
    "collapsed": true
   },
   "outputs": [],
   "source": []
  }
 ],
 "metadata": {
  "kernelspec": {
   "display_name": "Python 3",
   "language": "python",
   "name": "python3"
  },
  "language_info": {
   "codemirror_mode": {
    "name": "ipython",
    "version": 3
   },
   "file_extension": ".py",
   "mimetype": "text/x-python",
   "name": "python",
   "nbconvert_exporter": "python",
   "pygments_lexer": "ipython3",
   "version": "3.6.1"
  }
 },
 "nbformat": 4,
 "nbformat_minor": 2
}
