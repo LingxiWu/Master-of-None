{
 "cells": [
  {
   "cell_type": "code",
   "execution_count": 12,
   "metadata": {},
   "outputs": [
    {
     "data": {
      "text/plain": [
       "5"
      ]
     },
     "execution_count": 12,
     "metadata": {},
     "output_type": "execute_result"
    }
   ],
   "source": [
    "# We define a harmonious array is an array where the difference between its maximum value \n",
    "# and its minimum value is exactly 1.\n",
    "\n",
    "# Now, given an integer array, you need to find the length of its longest harmonious subsequence \n",
    "# among all its possible subsequences.\n",
    "\n",
    "# Example 1:\n",
    "# Input: [1,3,2,2,5,2,3,7]\n",
    "# Output: 5\n",
    "# Explanation: The longest harmonious subsequence is [3,2,2,2,3].\n",
    "import collections\n",
    "def longestHarmSubseq(array):\n",
    "    cnt = collections.Counter(array)\n",
    "    ans = 0\n",
    "    for x in cnt:\n",
    "        if x+1 in cnt:\n",
    "            ans = max(ans, cnt[x] + cnt[x+1])\n",
    "            \n",
    "    return ans\n",
    "longestHarmSubseq([1,3,2,2,5,2,3,7])"
   ]
  }
 ],
 "metadata": {
  "kernelspec": {
   "display_name": "Python 3",
   "language": "python",
   "name": "python3"
  },
  "language_info": {
   "codemirror_mode": {
    "name": "ipython",
    "version": 3
   },
   "file_extension": ".py",
   "mimetype": "text/x-python",
   "name": "python",
   "nbconvert_exporter": "python",
   "pygments_lexer": "ipython3",
   "version": "3.6.1"
  }
 },
 "nbformat": 4,
 "nbformat_minor": 2
}
