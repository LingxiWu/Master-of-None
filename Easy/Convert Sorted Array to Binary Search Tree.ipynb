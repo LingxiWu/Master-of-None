{
 "cells": [
  {
   "cell_type": "code",
   "execution_count": 179,
   "metadata": {},
   "outputs": [
    {
     "name": "stdout",
     "output_type": "stream",
     "text": [
      "ans1: 0.49999999999999983\n",
      "ans2: 0.24999999999999992\n",
      "\n",
      "S0 -> T1: 0.7499999999999998\n",
      "S0 -> T2: 0.24999999999999992\n",
      "\n",
      "ans4: 0.24999999999999992\n",
      "ans5: 0.375\n",
      "\n",
      "S5 -> T1: 0.6249999999999999\n",
      "S5 -> T2: 0.375\n",
      "\n",
      "0.25\n"
     ]
    }
   ],
   "source": [
    "# Given an array where elements are sorted in ascending order, convert it to a height balanced BST.\n",
    "\n",
    "class Node:\n",
    "    def __init__(self, v):\n",
    "        self.left = None\n",
    "        self.right = None\n",
    "        self.val = v\n",
    "\n",
    "def aToB(nums):\n",
    "    \n",
    "    if not nums: return None\n",
    "    \n",
    "    mid = int(len(nums) / 2)\n",
    "    high = int(len(nums) - 1)\n",
    "    \n",
    "    root = Node(nums[mid])\n",
    "    \n",
    "    if(mid != 0):\n",
    "        root.left = aToB(nums[0:mid])\n",
    "    else:\n",
    "        root.left = Node(nums[0])\n",
    "    if(mid+1 != high):\n",
    "        root.right = aToB(nums[mid+1:high+1])   \n",
    "    else:\n",
    "        root.right = Node(nums[high])\n",
    "    \n",
    "    return root\n",
    "\n",
    "root = aToB([1,2,3,4,5,6,7])\n",
    "root.right.right.val\n",
    "\n",
    "ans1 = 1/3\n",
    "for i in range(1,300):\n",
    "    ans1 += (1/3)*pow(2/3,i)*pow(1/2,i)\n",
    "print(\"ans1: {}\".format(ans1))\n",
    "   \n",
    "ans2 = (1/6)\n",
    "for j in range(1,300):\n",
    "    ans2 += (1/6)*pow(2/3,j)*pow(1/2,j)\n",
    "print(\"ans2: {}\".format(ans2))\n",
    "\n",
    "print()\n",
    "print(\"S0 -> T1: {}\".format(ans1+ans2))\n",
    "\n",
    "ans3 = (1/6)\n",
    "for k in range(1,100):\n",
    "    ans3 += (1/6)*pow(2/3,k)*pow(1/2,k)\n",
    "print(\"S0 -> T2: {}\".format(ans3))\n",
    "print()\n",
    "\n",
    "ans4 = (1/6)\n",
    "for l in range(1,100):\n",
    "    ans4 += (1/6)*pow(2/3,l)*pow(1/2,l)\n",
    "print(\"ans4: {}\".format(ans4))\n",
    "\n",
    "ans5 = (1/4)\n",
    "for m in range(1,100):\n",
    "    ans5 += (1/4)*pow(2/3,m)*pow(1/2,m)\n",
    "print(\"ans5: {}\".format(ans5))\n",
    "\n",
    "print()\n",
    "print(\"S5 -> T1: {}\".format(ans4+ans5))\n",
    "\n",
    "ans6 = (1/4)\n",
    "for n in range(1, 100):\n",
    "    ans6 += (1/4)*pow(2/3,n)*pow(1/2,n)\n",
    "print(\"S5 -> T2: {}\".format(ans6))    \n",
    "\n",
    "\n",
    "    \n",
    "print()\n",
    "print(0.1324+0.1176)"
   ]
  },
  {
   "cell_type": "code",
   "execution_count": 139,
   "metadata": {},
   "outputs": [
    {
     "name": "stdout",
     "output_type": "stream",
     "text": [
      "[]\n"
     ]
    }
   ],
   "source": [
    "a = [1,2,3]\n",
    "print(a[0:0])"
   ]
  },
  {
   "cell_type": "code",
   "execution_count": null,
   "metadata": {
    "collapsed": true
   },
   "outputs": [],
   "source": []
  }
 ],
 "metadata": {
  "kernelspec": {
   "display_name": "Python 3",
   "language": "python",
   "name": "python3"
  },
  "language_info": {
   "codemirror_mode": {
    "name": "ipython",
    "version": 3
   },
   "file_extension": ".py",
   "mimetype": "text/x-python",
   "name": "python",
   "nbconvert_exporter": "python",
   "pygments_lexer": "ipython3",
   "version": "3.6.1"
  }
 },
 "nbformat": 4,
 "nbformat_minor": 2
}
