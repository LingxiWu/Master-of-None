{
 "cells": [
  {
   "cell_type": "code",
   "execution_count": 15,
   "metadata": {},
   "outputs": [
    {
     "name": "stdout",
     "output_type": "stream",
     "text": [
      "27\n"
     ]
    }
   ],
   "source": [
    "# Related to question Excel Sheet Column Title\n",
    "\n",
    "# Given a column title as appear in an Excel sheet, return its corresponding column number.\n",
    "\n",
    "# For example:\n",
    "\n",
    "#     A -> 1\n",
    "#     B -> 2\n",
    "#     C -> 3\n",
    "#     ...\n",
    "#     Z -> 26\n",
    "#     AA -> 27\n",
    "#     AB -> 28 \n",
    "#     ...\n",
    "#     AAA -> 703\n",
    "\n",
    "# hint: think about decimal: 1 -> 1*10^0, 11 -> 1*10^1 + 1*10^0, 111 -> 1*10^2 + 1*10^1 + 1*10^0\n",
    "#                            132 -> 1*10^2 + 3*10^1 + 2*10^0\n",
    "#       So essentially this question can be converted to a 26-based number system.\n",
    "#       AAB -> A*26^2 + A*26^1 + B*26^0, and etc.\n",
    "\n",
    "import string\n",
    "\n",
    "def excelColumnNumber(columnTitle):\n",
    "    i = 0\n",
    "    letter_dict = {}\n",
    "    letters_uppercase = string.ascii_uppercase\n",
    "    while(i<26):\n",
    "        val = i+1\n",
    "        letter_dict[letters_uppercase[i]] = val\n",
    "        i += 1\n",
    "        \n",
    "    l = len(columnTitle) - 1   \n",
    "    ans = 0\n",
    "    for i in range(len(columnTitle)):\n",
    "        ans += letter_dict.get(columnTitle[i])*pow(26,l)\n",
    "        l -= 1\n",
    "    print(ans)      \n",
    "         \n",
    "        \n",
    "excelColumnNumber('AA')        "
   ]
  },
  {
   "cell_type": "code",
   "execution_count": null,
   "metadata": {
    "collapsed": true
   },
   "outputs": [],
   "source": []
  }
 ],
 "metadata": {
  "kernelspec": {
   "display_name": "Python 3",
   "language": "python",
   "name": "python3"
  },
  "language_info": {
   "codemirror_mode": {
    "name": "ipython",
    "version": 3
   },
   "file_extension": ".py",
   "mimetype": "text/x-python",
   "name": "python",
   "nbconvert_exporter": "python",
   "pygments_lexer": "ipython3",
   "version": "3.6.1"
  }
 },
 "nbformat": 4,
 "nbformat_minor": 2
}
