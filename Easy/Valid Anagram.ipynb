{
 "cells": [
  {
   "cell_type": "code",
   "execution_count": 11,
   "metadata": {},
   "outputs": [
    {
     "name": "stdout",
     "output_type": "stream",
     "text": [
      "1\n",
      "False\n"
     ]
    }
   ],
   "source": [
    "# Given two strings s and t, write a function to determine if t is an anagram of s.\n",
    "\n",
    "# For example,\n",
    "# s = \"anagram\", t = \"nagaram\", return true.\n",
    "# s = \"rat\", t = \"car\", return false.\n",
    "\n",
    "# You may assume the string contains only lowercase alphabets.\n",
    "\n",
    "# Analysis:\n",
    "# We can just sort them alphabetically and then compare if they are equal.\n",
    "# Better way use hashtable. For every letter in s increase counter by 1 and for every letter in t decrese counter by 1.\n",
    "# Or just use array of size 26: letters[26] \n",
    "\n",
    "# Note:\n",
    "# When get() is called, Python checks if the specified key exists in the dict. \n",
    "# If it does, then get() returns the value of that key. \n",
    "# If the key does not exist, then get() returns the value specified in the second argument to get().        \n",
    "     \n",
    "# dict1 = {}\n",
    "# dict1['key'] = dict1.get('key',0)+1\n",
    "# print(dict1.get('key',0))\n",
    "\n",
    "def isAnagram(s, t):\n",
    "    \n",
    "    dict1 = {}\n",
    "    dict2 = {}\n",
    "    \n",
    "    if(len(s) != len(t)):\n",
    "        return False\n",
    "    for letter in s:\n",
    "        dict1[letter] = dict1.get(letter, 0)+1 # very smart here ...\n",
    "    for letter in t:\n",
    "        dict2[letter] = dict2.get(letter, 0)+1\n",
    "    \n",
    "    return dict1 == dict2\n",
    "   \n",
    "# One liner\n",
    "# def isAnagram(s, t):\n",
    "#     return sorted(s) == sorted(t)\n",
    "\n",
    "\n",
    "\n",
    "print(isAnagram('car', 'cat'))"
   ]
  }
 ],
 "metadata": {
  "kernelspec": {
   "display_name": "Python 3",
   "language": "python",
   "name": "python3"
  },
  "language_info": {
   "codemirror_mode": {
    "name": "ipython",
    "version": 3
   },
   "file_extension": ".py",
   "mimetype": "text/x-python",
   "name": "python",
   "nbconvert_exporter": "python",
   "pygments_lexer": "ipython3",
   "version": "3.6.1"
  }
 },
 "nbformat": 4,
 "nbformat_minor": 2
}
