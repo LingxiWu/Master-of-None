{
 "cells": [
  {
   "cell_type": "code",
   "execution_count": 28,
   "metadata": {},
   "outputs": [
    {
     "name": "stdout",
     "output_type": "stream",
     "text": [
      "Counter({'e': 4, 'l': 2, 'o': 2, 'v': 1, 't': 1, 'c': 1, 'd': 1})\n"
     ]
    },
    {
     "data": {
      "text/plain": [
       "2"
      ]
     },
     "execution_count": 28,
     "metadata": {},
     "output_type": "execute_result"
    }
   ],
   "source": [
    "# Given a string, find the first non-repeating character in it and return it's index. If it doesn't exist, return -1.\n",
    "\n",
    "# Examples:\n",
    "\n",
    "# s = \"leetcode\"\n",
    "# return 0.\n",
    "\n",
    "# s = \"loveleetcode\",\n",
    "# return 2.\n",
    "import collections\n",
    "def uniqueChar(string):\n",
    "    cnt = collections.Counter(string)\n",
    "    \n",
    "    ans = -1\n",
    "    for i, c in enumerate(string): # i: index, c: current char\n",
    "        if(cnt[c] == 1):\n",
    "            ans = i\n",
    "            break;\n",
    "            \n",
    "    return ans\n",
    "        \n",
    "uniqueChar('loveleetcode')"
   ]
  },
  {
   "cell_type": "code",
   "execution_count": null,
   "metadata": {
    "collapsed": true
   },
   "outputs": [],
   "source": []
  }
 ],
 "metadata": {
  "kernelspec": {
   "display_name": "Python 3",
   "language": "python",
   "name": "python3"
  },
  "language_info": {
   "codemirror_mode": {
    "name": "ipython",
    "version": 3
   },
   "file_extension": ".py",
   "mimetype": "text/x-python",
   "name": "python",
   "nbconvert_exporter": "python",
   "pygments_lexer": "ipython3",
   "version": "3.6.1"
  }
 },
 "nbformat": 4,
 "nbformat_minor": 2
}
