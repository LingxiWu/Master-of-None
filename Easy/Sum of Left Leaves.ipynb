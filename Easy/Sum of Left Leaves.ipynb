{
 "cells": [
  {
   "cell_type": "code",
   "execution_count": 6,
   "metadata": {},
   "outputs": [
    {
     "name": "stdout",
     "output_type": "stream",
     "text": [
      "24\n"
     ]
    }
   ],
   "source": [
    "# Find the sum of all left leaves in a given binary tree.\n",
    "\n",
    "# Example:\n",
    "\n",
    "#     3\n",
    "#    / \\\n",
    "#   9  20\n",
    "#     /  \\\n",
    "#    15   7\n",
    "\n",
    "# There are two left leaves in the binary tree, with values 9 and 15 respectively. Return 24.\n",
    "\n",
    "#      1\n",
    "#     / \\\n",
    "#    2   3\n",
    "#   / \\\n",
    "#  4   5\n",
    "\n",
    "# (a) Inorder (Left, Root, Right) : 4 2 5 1 3\n",
    "# (b) Preorder (Root, Left, Right) : 1 2 4 5 3\n",
    "# (c) Postorder (Left, Right, Root) : 4 5 2 3 1\n",
    "\n",
    "# Good reference: http://www.geeksforgeeks.org/find-sum-left-leaves-given-binary-tree/\n",
    "\n",
    "class Node:\n",
    "    def __init__(self, val):\n",
    "        self.left = None\n",
    "        self.right = None\n",
    "        self.val = val\n",
    "def isLeaf(node):\n",
    "    if not node:\n",
    "        return False\n",
    "    elif not node.left and not node.right:\n",
    "        return True\n",
    "    return False\n",
    "\n",
    "def sumLeftLeaves(node):\n",
    "    ans = 0\n",
    "    if not node:\n",
    "        return 0\n",
    "    \n",
    "    if(isLeaf(node.left)):\n",
    "        ans += node.left.val\n",
    "    else:\n",
    "        ans += sumLeftLeaves(node.left)\n",
    "    \n",
    "    ans += sumLeftLeaves(node.right)\n",
    "    \n",
    "    return ans\n",
    "\n",
    "tree = Node(3)\n",
    "tree.left = Node(9)\n",
    "tree.right = Node(20)\n",
    "tree.right.left = Node(15)\n",
    "tree.right.right = Node(7)\n",
    "\n",
    "print(sumLeftLeaves(tree))\n",
    "        \n"
   ]
  }
 ],
 "metadata": {
  "kernelspec": {
   "display_name": "Python 3",
   "language": "python",
   "name": "python3"
  },
  "language_info": {
   "codemirror_mode": {
    "name": "ipython",
    "version": 3
   },
   "file_extension": ".py",
   "mimetype": "text/x-python",
   "name": "python",
   "nbconvert_exporter": "python",
   "pygments_lexer": "ipython3",
   "version": "3.6.1"
  }
 },
 "nbformat": 4,
 "nbformat_minor": 2
}
