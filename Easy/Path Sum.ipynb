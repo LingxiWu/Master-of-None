{
 "cells": [
  {
   "cell_type": "code",
   "execution_count": 41,
   "metadata": {},
   "outputs": [
    {
     "name": "stdout",
     "output_type": "stream",
     "text": [
      "True\n"
     ]
    }
   ],
   "source": [
    "# Given a binary tree and a sum, \n",
    "# determine if the tree has a root-to-leaf path such that adding up all the values along the path equals the given sum.\n",
    "\n",
    "# For example:\n",
    "# Given the below binary tree and sum = 22,\n",
    "#               5\n",
    "#              / \\\n",
    "#             4   8\n",
    "#            /   / \\\n",
    "#           11  13  4\n",
    "#          /  \\      \\\n",
    "#         7    2      1\n",
    "# return true, as there exist a root-to-leaf path 5->4->11->2 which sum is 22.\n",
    "\n",
    "class Node:\n",
    "    def __init__(self, val):\n",
    "        self.left = None;\n",
    "        self.right = None;\n",
    "        self.value = val\n",
    "\n",
    "\n",
    "def pathSum(node, n):\n",
    "    \n",
    "    if not node:\n",
    "        return False\n",
    "    elif(node.value == n and node.left == None and node.right == None):\n",
    "        return True\n",
    "    elif(node.left == None and node.right == None and node.value != n):\n",
    "        return False\n",
    "    else:\n",
    "        n = n - node.value\n",
    "        ans1, ans2 = False, False\n",
    "        if(node.left != None):\n",
    "            ans1 = pathSum(node.left, n)\n",
    "        if(node.right != None):\n",
    "            ans2 = pathSum(node.right, n)\n",
    "        return ans1 or ans2\n",
    "    \n",
    "\n",
    "\n",
    "tree = Node(5)\n",
    "tree.left = Node(4)\n",
    "tree.right = Node(8)\n",
    "tree.left.left = Node(11)\n",
    "tree.right.left = Node(13)\n",
    "tree.right.right = Node(4)\n",
    "tree.left.left.left = Node(7)\n",
    "tree.left.left.right = Node(2)\n",
    "tree.right.right.right = Node(1)\n",
    "\n",
    "\n",
    "print(pathSum(tree, 18))"
   ]
  },
  {
   "cell_type": "code",
   "execution_count": null,
   "metadata": {
    "collapsed": true
   },
   "outputs": [],
   "source": []
  }
 ],
 "metadata": {
  "kernelspec": {
   "display_name": "Python 3",
   "language": "python",
   "name": "python3"
  },
  "language_info": {
   "codemirror_mode": {
    "name": "ipython",
    "version": 3
   },
   "file_extension": ".py",
   "mimetype": "text/x-python",
   "name": "python",
   "nbconvert_exporter": "python",
   "pygments_lexer": "ipython3",
   "version": "3.6.1"
  }
 },
 "nbformat": 4,
 "nbformat_minor": 2
}
