{
 "cells": [
  {
   "cell_type": "code",
   "execution_count": 3,
   "metadata": {},
   "outputs": [
    {
     "name": "stdout",
     "output_type": "stream",
     "text": [
      "3\n",
      "2\n"
     ]
    }
   ],
   "source": [
    "# Given an integer array with even length, where different numbers in this array represent different kinds of candies. \n",
    "# Each number means one candy of the corresponding kind. \n",
    "# You need to distribute these candies equally in number to brother and sister. \n",
    "# Return the maximum number of kinds of candies the sister could gain.\n",
    "\n",
    "# E.g.\n",
    "# Input: candies = [1,1,2,2,3,3]\n",
    "# Output: 3\n",
    "# i.e.: sister gets 1, 2, 3\n",
    "\n",
    "# Input: candies = [1,1,2,3]\n",
    "# Output: 2\n",
    "# i.e. sister gets 2, 3\n",
    "\n",
    "# Quick and dirty: use hashset in Java, or set in Python.\n",
    "# Observation: the actual number of candies the girl can get is len(candies)/2. \n",
    "# The actual number of kinds of candies the girl can get cannot be over len(candies)/2.\n",
    "# If the number_of_kinds_of_candies > len(candies)/2, she will only get len(candies)/2 types of candies.\n",
    "# If len(candies)/2 > number_of_kinds_of_candies, she will get number_of_kinds_of_candies types of candies.\n",
    "# Either way, she will get the min(len(candies)/2, number_of_kinds_of_candies)\n",
    "\n",
    "def disCandies(candies):\n",
    "    return int(min(len(set(candies)), len(candies)/2))\n",
    "    \n",
    "candies1 = [1,1,2,2,3,3]\n",
    "candies2 = [1,1,2,3]\n",
    "print(disCandies(candies1)) \n",
    "print(disCandies(candies2))\n"
   ]
  }
 ],
 "metadata": {
  "kernelspec": {
   "display_name": "Python 3",
   "language": "python",
   "name": "python3"
  },
  "language_info": {
   "codemirror_mode": {
    "name": "ipython",
    "version": 3
   },
   "file_extension": ".py",
   "mimetype": "text/x-python",
   "name": "python",
   "nbconvert_exporter": "python",
   "pygments_lexer": "ipython3",
   "version": "3.6.1"
  }
 },
 "nbformat": 4,
 "nbformat_minor": 2
}
