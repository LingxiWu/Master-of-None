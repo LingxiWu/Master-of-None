{
 "cells": [
  {
   "cell_type": "code",
   "execution_count": 7,
   "metadata": {},
   "outputs": [
    {
     "data": {
      "text/plain": [
       "27"
      ]
     },
     "execution_count": 7,
     "metadata": {},
     "output_type": "execute_result"
    }
   ],
   "source": [
    "lst = [1,[4,[6]]]\n",
    "\n",
    "def nested_list_weighted_sum(lst, weight):\n",
    "    \n",
    "    sum = 0\n",
    "    \n",
    "    for i in range(len(lst)):\n",
    "        if(isinstance(lst[i], int)):\n",
    "            sum += lst[i]*weight\n",
    "        else:\n",
    "            sum += nested_list_weighted_sum(lst[i], weight+1)\n",
    "    \n",
    "    return sum\n",
    "    \n",
    "nested_list_weighted_sum(lst, 1)    "
   ]
  },
  {
   "cell_type": "code",
   "execution_count": null,
   "metadata": {
    "collapsed": true
   },
   "outputs": [],
   "source": []
  }
 ],
 "metadata": {
  "kernelspec": {
   "display_name": "Python 3",
   "language": "python",
   "name": "python3"
  },
  "language_info": {
   "codemirror_mode": {
    "name": "ipython",
    "version": 3
   },
   "file_extension": ".py",
   "mimetype": "text/x-python",
   "name": "python",
   "nbconvert_exporter": "python",
   "pygments_lexer": "ipython3",
   "version": "3.6.1"
  }
 },
 "nbformat": 4,
 "nbformat_minor": 2
}
