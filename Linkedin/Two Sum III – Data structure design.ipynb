{
 "cells": [
  {
   "cell_type": "code",
   "execution_count": 39,
   "metadata": {},
   "outputs": [
    {
     "name": "stdout",
     "output_type": "stream",
     "text": [
      "True\n"
     ]
    }
   ],
   "source": [
    "# Design and implement a TwoSum class. It should support the following operations: add and find.\n",
    "\n",
    "# add - Add the number to an internal data structure.\n",
    "# find - Find if there exists any pair of numbers which sum is equal to the value.\n",
    "\n",
    "# For example,\n",
    "\n",
    "# add(1); add(3); add(5);\n",
    "# find(4) -> true\n",
    "# find(7) -> false\n",
    "\n",
    "class TwoSum:\n",
    "    def __init__(self):\n",
    "        self.storage = dict()\n",
    "        \n",
    "    def add(self, v):\n",
    "        self.storage[v] = self.storage.get(v, 0) + 1\n",
    "        \n",
    "    def find(self, v):\n",
    "        ans = False\n",
    "        for key, val in self.storage.items():\n",
    "            if self.storage.get((v - key)) != None:\n",
    "                if self.storage.get((v - key)) >= 1:\n",
    "                    ans = True\n",
    "                    break\n",
    "        return ans\n",
    "        \n",
    "\n",
    "\n",
    "two_sum = TwoSum()\n",
    "two_sum.add(1)\n",
    "two_sum.add(1)\n",
    "two_sum.add(3)\n",
    "two_sum.add(5)\n",
    "print(two_sum.find(8))\n"
   ]
  },
  {
   "cell_type": "code",
   "execution_count": null,
   "metadata": {
    "collapsed": true
   },
   "outputs": [],
   "source": []
  }
 ],
 "metadata": {
  "kernelspec": {
   "display_name": "Python 3",
   "language": "python",
   "name": "python3"
  },
  "language_info": {
   "codemirror_mode": {
    "name": "ipython",
    "version": 3
   },
   "file_extension": ".py",
   "mimetype": "text/x-python",
   "name": "python",
   "nbconvert_exporter": "python",
   "pygments_lexer": "ipython3",
   "version": "3.6.1"
  }
 },
 "nbformat": 4,
 "nbformat_minor": 2
}
