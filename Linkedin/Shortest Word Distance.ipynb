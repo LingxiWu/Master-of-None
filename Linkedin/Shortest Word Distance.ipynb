{
 "cells": [
  {
   "cell_type": "code",
   "execution_count": 6,
   "metadata": {},
   "outputs": [
    {
     "name": "stdout",
     "output_type": "stream",
     "text": [
      "practice\n",
      "makes\n",
      "perfect\n",
      "coding\n",
      "makes\n",
      "p_1: 1\n",
      "p_2: 3\n",
      "2\n"
     ]
    }
   ],
   "source": [
    "# Given a list of words and two words word1 and word2, return the shortest distance between these two words in the list.\n",
    "\n",
    "# For example,\n",
    "# Assume that words = [\"practice\", \"makes\", \"perfect\", \"coding\", \"makes\"].\n",
    "\n",
    "# Given word1 = “coding”, word2 = “practice”, return 3.\n",
    "# Given word1 = \"makes\", word2 = \"coding\", return 1.\n",
    "\n",
    "# Note:\n",
    "# You may assume that word1 does not equal to word2, and word1 and word2 are both in the list.\n",
    "\n",
    "def shortest_words_distance(words, word_1, word_2):\n",
    "    \n",
    "    p_1, p_2 = -1, -1\n",
    "    distance = len(words)\n",
    "    \n",
    "    for w in words:\n",
    "        print(w)\n",
    "        \n",
    "        if(w == word_1):\n",
    "            p_1 = words.index(w)\n",
    "        elif(w == word_2):\n",
    "            p_2 = words.index(w)\n",
    "            \n",
    "        if(p_1 != -1 and p_2 != -1):\n",
    "            temp_dist = abs(p_1 - p_2)\n",
    "            if(temp_dist < distance):\n",
    "                distance = temp_dist\n",
    "                \n",
    "    print(\"p_1: {}\".format(p_1))\n",
    "    print(\"p_2: {}\".format(p_2))\n",
    "    return distance\n",
    "\n",
    "words = [\"practice\", \"makes\", \"perfect\", \"coding\", \"makes\"] \n",
    "word_1 = \"makes\"\n",
    "word_2 = \"coding\"\n",
    "\n",
    "print(shortest_words_distance(words, word_1, word_2))"
   ]
  },
  {
   "cell_type": "code",
   "execution_count": null,
   "metadata": {
    "collapsed": true
   },
   "outputs": [],
   "source": []
  }
 ],
 "metadata": {
  "kernelspec": {
   "display_name": "Python 3",
   "language": "python",
   "name": "python3"
  },
  "language_info": {
   "codemirror_mode": {
    "name": "ipython",
    "version": 3
   },
   "file_extension": ".py",
   "mimetype": "text/x-python",
   "name": "python",
   "nbconvert_exporter": "python",
   "pygments_lexer": "ipython3",
   "version": "3.6.1"
  }
 },
 "nbformat": 4,
 "nbformat_minor": 2
}
