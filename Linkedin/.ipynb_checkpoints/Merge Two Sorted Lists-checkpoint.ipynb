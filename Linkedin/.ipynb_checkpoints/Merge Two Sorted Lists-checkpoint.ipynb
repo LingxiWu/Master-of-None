{
 "cells": [
  {
   "cell_type": "code",
   "execution_count": 11,
   "metadata": {},
   "outputs": [
    {
     "name": "stdout",
     "output_type": "stream",
     "text": [
      "10\n"
     ]
    }
   ],
   "source": [
    "# Merge two sorted linked lists and return it as a new list. \n",
    "# The new list should be made by splicing together the nodes of the first two lists.\n",
    "\n",
    "class List_node:\n",
    "    def __init__(self, v):\n",
    "        self.val = v\n",
    "        self.next = None\n",
    "        \n",
    "linked_lst_1 = List_node(1)\n",
    "linked_lst_1.next = List_node(3)\n",
    "linked_lst_1.next.next = List_node(8)\n",
    "linked_lst_1.next.next.next = List_node(10)\n",
    "\n",
    "linked_lst_2 = List_node(2)\n",
    "linked_lst_2.next = List_node(6)\n",
    "linked_lst_2.next.next = List_node(7)\n",
    "linked_lst_2.next.next.next = List_node(8)\n",
    "\n",
    "# 1-2-3-6-7-8-8-10\n",
    "\n",
    "def merge_sorted_list(lst_1, lst_2):\n",
    "    \n",
    "    if not lst_1:\n",
    "        return lst_2\n",
    "    \n",
    "    if not lst_2:\n",
    "        return lst_1\n",
    "\n",
    "    new_head = None\n",
    "    \n",
    "    if(lst_2.val > lst_1.val):\n",
    "        new_head = lst_1\n",
    "        new_head.next = merge_sorted_list(lst_1.next, lst_2)\n",
    "    else:\n",
    "        new_head = lst_2\n",
    "        new_head.next = merge_sorted_list(lst_1, lst_2.next)\n",
    "        \n",
    "    return new_head\n",
    "\n",
    "merged_lst = merge_sorted_list(linked_lst_1, linked_lst_2)\n",
    " \n",
    "# 1 -> 2 -> 3 -> 6 -> 7 -> 8 -> 8 -> 10"
   ]
  },
  {
   "cell_type": "code",
   "execution_count": null,
   "metadata": {
    "collapsed": true
   },
   "outputs": [],
   "source": []
  }
 ],
 "metadata": {
  "kernelspec": {
   "display_name": "Python 3",
   "language": "python",
   "name": "python3"
  },
  "language_info": {
   "codemirror_mode": {
    "name": "ipython",
    "version": 3
   },
   "file_extension": ".py",
   "mimetype": "text/x-python",
   "name": "python",
   "nbconvert_exporter": "python",
   "pygments_lexer": "ipython3",
   "version": "3.6.1"
  }
 },
 "nbformat": 4,
 "nbformat_minor": 2
}
