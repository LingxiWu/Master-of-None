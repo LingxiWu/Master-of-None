{
 "cells": [
  {
   "cell_type": "code",
   "execution_count": 12,
   "metadata": {},
   "outputs": [
    {
     "name": "stdout",
     "output_type": "stream",
     "text": [
      "[None]\n"
     ]
    }
   ],
   "source": [
    "class Node:\n",
    "    def __init__(self, v):\n",
    "        self.left = None\n",
    "        self.right = None\n",
    "        self.val = v\n",
    "\n",
    "        \n",
    "def get_tree_height(Node):\n",
    "    \n",
    "    if not Node: return 0\n",
    "    \n",
    "    if(not Node.left and not Node.right):\n",
    "        return 1\n",
    "    \n",
    "    else:\n",
    "        if(get_tree_height(Node.left) > get_tree_height(Node.right)):\n",
    "            return get_tree_height(Node.left) + 1\n",
    "        else:\n",
    "            return get_tree_height(Node.right) + 1\n",
    "\n",
    "def level_order_traversal(Node):\n",
    "    \n",
    "    ans = []\n",
    "    level = None\n",
    "    if not Node.left and not Node.right:\n",
    "        level = [Node.val]\n",
    "        \n",
    "    ans.append(level)\n",
    "    return ans\n",
    "    \n",
    "    \n",
    "    \n",
    "    \n",
    "        \n",
    "        \n",
    "Tree = Node(3)\n",
    "# Tree.left = Node(9)\n",
    "# Tree.right = Node(20)\n",
    "# Tree.right.left = Node(15)\n",
    "# Tree.right.right = Node(7)\n",
    "# Tree.right.right.left = Node(8)\n",
    "# Tree.right.right.right = Node(10)\n",
    "\n",
    "# get_tree_height(Tree)\n",
    "print(level_order_traversal(Tree))"
   ]
  },
  {
   "cell_type": "code",
   "execution_count": null,
   "metadata": {
    "collapsed": true
   },
   "outputs": [],
   "source": []
  }
 ],
 "metadata": {
  "kernelspec": {
   "display_name": "Python 3",
   "language": "python",
   "name": "python3"
  },
  "language_info": {
   "codemirror_mode": {
    "name": "ipython",
    "version": 3
   },
   "file_extension": ".py",
   "mimetype": "text/x-python",
   "name": "python",
   "nbconvert_exporter": "python",
   "pygments_lexer": "ipython3",
   "version": "3.6.1"
  }
 },
 "nbformat": 4,
 "nbformat_minor": 2
}
