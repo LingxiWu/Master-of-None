{
 "cells": [
  {
   "cell_type": "code",
   "execution_count": 21,
   "metadata": {},
   "outputs": [
    {
     "name": "stdout",
     "output_type": "stream",
     "text": [
      "964176192\n"
     ]
    }
   ],
   "source": [
    "# Reverse bits of a given 32 bits unsigned integer.\n",
    "\n",
    "# For example, given input 43261596 (represented in binary as 00000010100101000001111010011100), \n",
    "# return 964176192 (represented in binary as 00111001011110000010100101000000).\n",
    "\n",
    "# Follow up:\n",
    "# If this function is called many times, how would you optimize it?\n",
    "\n",
    "# Analysis:\n",
    "# we extract the last digit of n, add it to result, and right shift n.\n",
    "# if last digit is 0, we left shift result.\n",
    "\n",
    "def reverse_bits(n):\n",
    "\n",
    "    res = 0\n",
    "    \n",
    "    for i in range(32):\n",
    "        \n",
    "        res <<= 1 \n",
    "        \n",
    "        # determine if the last digit of n is 0 or 1\n",
    "        last_digit = n & 1\n",
    "        \n",
    "        if last_digit == 1:\n",
    "            res += last_digit\n",
    "              \n",
    "        n >>= 1\n",
    "    \n",
    "    return res\n",
    "        \n",
    "        \n",
    "print(reverse_bits(43261596))"
   ]
  },
  {
   "cell_type": "code",
   "execution_count": null,
   "metadata": {
    "collapsed": true
   },
   "outputs": [],
   "source": [
    "# one solution: https://skyyen999.gitbooks.io/-leetcode-with-javascript/content/questions/190md.html. Easy to understand.\n",
    "\n"
   ]
  }
 ],
 "metadata": {
  "kernelspec": {
   "display_name": "Python 3",
   "language": "python",
   "name": "python3"
  },
  "language_info": {
   "codemirror_mode": {
    "name": "ipython",
    "version": 3
   },
   "file_extension": ".py",
   "mimetype": "text/x-python",
   "name": "python",
   "nbconvert_exporter": "python",
   "pygments_lexer": "ipython3",
   "version": "3.6.1"
  }
 },
 "nbformat": 4,
 "nbformat_minor": 2
}
