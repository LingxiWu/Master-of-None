{
 "cells": [
  {
   "cell_type": "code",
   "execution_count": 25,
   "metadata": {},
   "outputs": [
    {
     "ename": "AttributeError",
     "evalue": "'NoneType' object has no attribute 'next'",
     "output_type": "error",
     "traceback": [
      "\u001b[1;31m---------------------------------------------------------------------------\u001b[0m",
      "\u001b[1;31mAttributeError\u001b[0m                            Traceback (most recent call last)",
      "\u001b[1;32m<ipython-input-25-383fa2d0dbaa>\u001b[0m in \u001b[0;36m<module>\u001b[1;34m()\u001b[0m\n\u001b[0;32m     20\u001b[0m \u001b[1;31m# linked_list_1.next.next.next = Node(4)\u001b[0m\u001b[1;33m\u001b[0m\u001b[1;33m\u001b[0m\u001b[0m\n\u001b[0;32m     21\u001b[0m \u001b[1;31m# linked_list_1.next.next.next.next = Node(5)\u001b[0m\u001b[1;33m\u001b[0m\u001b[1;33m\u001b[0m\u001b[0m\n\u001b[1;32m---> 22\u001b[1;33m \u001b[0mlinked_list_1\u001b[0m\u001b[1;33m.\u001b[0m\u001b[0mnext\u001b[0m\u001b[1;33m.\u001b[0m\u001b[0mnext\u001b[0m\u001b[1;33m.\u001b[0m\u001b[0mnext\u001b[0m\u001b[1;33m.\u001b[0m\u001b[0mnext\u001b[0m\u001b[1;33m.\u001b[0m\u001b[0mnext\u001b[0m \u001b[1;33m=\u001b[0m \u001b[0mNode\u001b[0m\u001b[1;33m(\u001b[0m\u001b[1;36m6\u001b[0m\u001b[1;33m)\u001b[0m\u001b[1;33m\u001b[0m\u001b[0m\n\u001b[0m\u001b[0;32m     23\u001b[0m \u001b[1;33m\u001b[0m\u001b[0m\n\u001b[0;32m     24\u001b[0m \u001b[0mlinked_list_2\u001b[0m \u001b[1;33m=\u001b[0m \u001b[0mNode\u001b[0m\u001b[1;33m(\u001b[0m\u001b[1;36m10\u001b[0m\u001b[1;33m)\u001b[0m\u001b[1;33m\u001b[0m\u001b[0m\n",
      "\u001b[1;31mAttributeError\u001b[0m: 'NoneType' object has no attribute 'next'"
     ]
    }
   ],
   "source": [
    "# Write a program to find the node at which the intersection of two singly linked lists begins.\n",
    "\n",
    "# For example, the following two linked lists:\n",
    "\n",
    "# A:          a1 → a2\n",
    "#                    ↘\n",
    "#                      c1 → c2 → c3\n",
    "#                    ↗            \n",
    "# B:     b1 → b2 → b3\n",
    "\n",
    "class Node:\n",
    "    def __init__(self,v):\n",
    "        self.val = v\n",
    "        self.next = None\n",
    "        \n",
    "\n",
    "linked_list_1 = Node(1)\n",
    "linked_list_1.next = Node(2)\n",
    "linked_list_1.next.next = Node(3)\n",
    "linked_list_1.next.next.next = Node(4)\n",
    "linked_list_1.next.next.next.next = Node(5)\n",
    "# linked_list_1.next.next.next.next.next = Node(6)\n",
    "\n",
    "linked_list_2 = Node(10)\n",
    "linked_list_2.next = Node(20)\n",
    "linked_list_2.next.next = Node(30)\n",
    "linked_list_2.next.next.next = Node(4)\n",
    "linked_list_2.next.next.next.next = Node(5)\n",
    "linked_list_2.next.next.next.next.next = Node(6)\n",
    "\n",
    "def intersect_lst_1(lst_1, lst_2):\n",
    "    \n",
    "    len_1, len_2 = 0, 0\n",
    "    temp_1, temp_2 = lst_1, lst_2\n",
    "    p_1, p_2 = lst_1, lst_2\n",
    "    \n",
    "    while(temp_1 != None):        \n",
    "        len_1 += 1\n",
    "        temp_1 = temp_1.next\n",
    "    \n",
    "    while(temp_2 != None):       \n",
    "        len_2 += 1\n",
    "        temp_2 = temp_2.next\n",
    "        \n",
    "    len_diff = abs(len_1 - len_2)\n",
    "    \n",
    "    if len_1 >= len_2:\n",
    "        for i in range(len_diff):\n",
    "            p_1 = p_1.next\n",
    "    else:\n",
    "        for j in range(len_diff):\n",
    "            p_2 = p_2.next\n",
    "    \n",
    "    while(p_1 != None):\n",
    "        if(p_1.val == p_2.val):\n",
    "            return p_1\n",
    "        p_1 = p_1.next\n",
    "        p_2 = p_2.next\n",
    "    \n",
    "    return None\n",
    "        \n",
    "    \n",
    "    \n",
    "print(intersect_lst_1(linked_list_1, linked_list_2))"
   ]
  },
  {
   "cell_type": "code",
   "execution_count": null,
   "metadata": {
    "collapsed": true
   },
   "outputs": [],
   "source": []
  }
 ],
 "metadata": {
  "kernelspec": {
   "display_name": "Python 3",
   "language": "python",
   "name": "python3"
  },
  "language_info": {
   "codemirror_mode": {
    "name": "ipython",
    "version": 3
   },
   "file_extension": ".py",
   "mimetype": "text/x-python",
   "name": "python",
   "nbconvert_exporter": "python",
   "pygments_lexer": "ipython3",
   "version": "3.6.1"
  }
 },
 "nbformat": 4,
 "nbformat_minor": 2
}
