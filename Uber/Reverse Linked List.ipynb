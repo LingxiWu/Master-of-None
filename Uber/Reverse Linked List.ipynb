{
 "cells": [
  {
   "cell_type": "code",
   "execution_count": 3,
   "metadata": {},
   "outputs": [
    {
     "name": "stdout",
     "output_type": "stream",
     "text": [
      "6\n",
      "5\n",
      "4\n",
      "3\n",
      "2\n",
      "1\n"
     ]
    }
   ],
   "source": [
    "# Reverse a singly linked list.\n",
    "class Node:\n",
    "    def __init__(self,v):\n",
    "        self.val = v\n",
    "        self.next = None\n",
    "        \n",
    "\n",
    "linked_list = Node(1)\n",
    "linked_list.next = Node(2)\n",
    "linked_list.next.next = Node(3)\n",
    "linked_list.next.next.next = Node(4)\n",
    "linked_list.next.next.next.next = Node(5)\n",
    "linked_list.next.next.next.next.next = Node(6)\n",
    "\n",
    "\n",
    "def reverse_linked_list(head):\n",
    "    prev = None\n",
    "    while head:\n",
    "        current = head\n",
    "        head = head.next\n",
    "        current.next = prev\n",
    "        prev = current\n",
    "    return prev\n",
    "\n",
    "reversed_lst = reverse_linked_list(linked_list)\n",
    "\n",
    "\n",
    "print(reversed_lst.val)\n",
    "print(reversed_lst.next.val)\n",
    "print(reversed_lst.next.next.val)\n",
    "print(reversed_lst.next.next.next.val)\n",
    "print(reversed_lst.next.next.next.next.val)\n",
    "print(reversed_lst.next.next.next.next.next.val)\n",
    "    "
   ]
  },
  {
   "cell_type": "code",
   "execution_count": null,
   "metadata": {
    "collapsed": true
   },
   "outputs": [],
   "source": []
  }
 ],
 "metadata": {
  "kernelspec": {
   "display_name": "Python 3",
   "language": "python",
   "name": "python3"
  },
  "language_info": {
   "codemirror_mode": {
    "name": "ipython",
    "version": 3
   },
   "file_extension": ".py",
   "mimetype": "text/x-python",
   "name": "python",
   "nbconvert_exporter": "python",
   "pygments_lexer": "ipython3",
   "version": "3.6.1"
  }
 },
 "nbformat": 4,
 "nbformat_minor": 2
}
