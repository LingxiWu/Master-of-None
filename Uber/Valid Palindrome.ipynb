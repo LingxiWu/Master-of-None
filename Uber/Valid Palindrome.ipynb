{
 "cells": [
  {
   "cell_type": "code",
   "execution_count": 9,
   "metadata": {},
   "outputs": [
    {
     "name": "stdout",
     "output_type": "stream",
     "text": [
      "True\n",
      "False\n",
      "True\n"
     ]
    }
   ],
   "source": [
    "# Given a string, determine if it is a palindrome, considering only alphanumeric characters and ignoring cases.\n",
    "\n",
    "# For example,\n",
    "# \"A man, a plan, a canal: Panama\" is a palindrome.\n",
    "# \"race a car\" is not a palindrome.\n",
    "\n",
    "# Note:\n",
    "# Have you consider that the string might be empty? This is a good question to ask during an interview.\n",
    "\n",
    "# For the purpose of this problem, we define empty string as valid palindrome.\n",
    "\n",
    "def valid_palindrome(string):\n",
    "    \n",
    "    if len(string) == 0:\n",
    "        return True\n",
    "    \n",
    "    left_index = 0\n",
    "    right_index = len(string) - 1\n",
    "    \n",
    "    while(left_index <= right_index):\n",
    "        \n",
    "        # keep going right until find a number or letter:\n",
    "        while(not string[left_index].isalnum()):\n",
    "            left_index += 1\n",
    "        \n",
    "        # keep going left until find a number or a letter:\n",
    "        while(not string[right_index].isalnum()):\n",
    "            right_index -= 1\n",
    "        \n",
    "        if(string[left_index].lower() != string[right_index].lower()):\n",
    "            return False\n",
    "    \n",
    "        left_index += 1\n",
    "        right_index -= 1\n",
    "        \n",
    "    return True\n",
    "        \n",
    "print(valid_palindrome('A man, a plan, a canal: Panama'))\n",
    "print(valid_palindrome('race a car'))\n",
    "print(valid_palindrome('a,a'))\n",
    "    "
   ]
  },
  {
   "cell_type": "code",
   "execution_count": null,
   "metadata": {
    "collapsed": true
   },
   "outputs": [],
   "source": []
  }
 ],
 "metadata": {
  "kernelspec": {
   "display_name": "Python 3",
   "language": "python",
   "name": "python3"
  },
  "language_info": {
   "codemirror_mode": {
    "name": "ipython",
    "version": 3
   },
   "file_extension": ".py",
   "mimetype": "text/x-python",
   "name": "python",
   "nbconvert_exporter": "python",
   "pygments_lexer": "ipython3",
   "version": "3.6.1"
  }
 },
 "nbformat": 4,
 "nbformat_minor": 2
}
