{
 "cells": [
  {
   "cell_type": "code",
   "execution_count": 26,
   "metadata": {},
   "outputs": [
    {
     "name": "stdout",
     "output_type": "stream",
     "text": [
      "2\n",
      "1\n",
      "4\n",
      "3\n",
      "6\n",
      "5\n"
     ]
    }
   ],
   "source": [
    "\n",
    "\n",
    "\n",
    "class Node:\n",
    "    def __init__(self,v):\n",
    "        self.val = v\n",
    "        self.next = None\n",
    "        \n",
    "\n",
    "linked_list = Node(1)\n",
    "linked_list.next = Node(2)\n",
    "linked_list.next.next = Node(3)\n",
    "linked_list.next.next.next = Node(4)\n",
    "linked_list.next.next.next.next = Node(5)\n",
    "linked_list.next.next.next.next.next = Node(6)\n",
    "\n",
    "def swap_nodes_in_pairs(lst):\n",
    "    \n",
    "    dummy_head = Node(-999)\n",
    "    dummy_head.next = lst\n",
    "    \n",
    "    previous = dummy_head\n",
    "    \n",
    "    while previous.next:\n",
    "        \n",
    "        node_1 = previous.next\n",
    "        node_2 = previous.next.next\n",
    "    \n",
    "        # swapping...\n",
    "        previous.next = node_2\n",
    "        node_1.next = node_2.next\n",
    "        node_2.next = node_1\n",
    "        \n",
    "        # start over\n",
    "        previous = node_1\n",
    "    \n",
    "    return dummy_head.next\n",
    "\n",
    "swapped = swap_nodes_in_pairs(linked_list)\n",
    "\n",
    "print(swapped.val)\n",
    "print(swapped.next.val)\n",
    "print(swapped.next.next.val)\n",
    "print(swapped.next.next.next.val)\n",
    "print(swapped.next.next.next.next.val)\n",
    "print(swapped.next.next.next.next.next.val)"
   ]
  },
  {
   "cell_type": "code",
   "execution_count": null,
   "metadata": {
    "collapsed": true
   },
   "outputs": [],
   "source": []
  }
 ],
 "metadata": {
  "kernelspec": {
   "display_name": "Python 3",
   "language": "python",
   "name": "python3"
  },
  "language_info": {
   "codemirror_mode": {
    "name": "ipython",
    "version": 3
   },
   "file_extension": ".py",
   "mimetype": "text/x-python",
   "name": "python",
   "nbconvert_exporter": "python",
   "pygments_lexer": "ipython3",
   "version": "3.6.1"
  }
 },
 "nbformat": 4,
 "nbformat_minor": 2
}
