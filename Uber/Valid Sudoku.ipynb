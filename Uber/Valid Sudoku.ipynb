{
 "cells": [
  {
   "cell_type": "code",
   "execution_count": 32,
   "metadata": {},
   "outputs": [
    {
     "name": "stdout",
     "output_type": "stream",
     "text": [
      "False\n"
     ]
    }
   ],
   "source": [
    "# Determine if a Sudoku is valid, according to: Sudoku Puzzles - The Rules:\n",
    "        \n",
    "#         Each row must have the numbers 1-9 occuring just once.\n",
    "#         Each column must have the numbers 1-9 occuring just once.\n",
    "#         And the numbers 1-9 must occur just once in each of the 9 sub-boxes of the grid.\n",
    "        \n",
    "\n",
    "# The Sudoku board could be partially filled, where empty cells are filled with the character '.'.\n",
    "\n",
    "\n",
    "# A valid Sudoku board (partially filled) is not necessarily solvable. Only the filled cells need to be validated.\n",
    "\n",
    "# define a sudoku.\n",
    "sudoku = [\n",
    "             ['5','3','.','.','7','.','.','.','.'],\n",
    "             ['6','.','.','1','9','5','.','.','.'],\n",
    "             ['.','9','8','.','.','.','.','6','.'],\n",
    "             ['8','.','.','.','6','.','.','.','3'],\n",
    "             ['4','.','.','8','.','3','.','.','1'],\n",
    "             ['7','.','.','.','2','.','.','.','6'],\n",
    "             ['.','6','.','.','.','.','2','8','.'],\n",
    "             ['.','.','.','4','1','9','.','.','5'],\n",
    "             ['.','.','.','.','8','.','.','7','9']\n",
    "         ]\n",
    "\n",
    "def valid_sudoku(sudoku):\n",
    "    \n",
    "    # check row:\n",
    "    num_set = set()\n",
    "    for row in range(9):\n",
    "        for col in range(9):\n",
    "            if sudoku[row][col] == '.':\n",
    "                continue\n",
    "            if sudoku[row][col] in num_set:\n",
    "                return False\n",
    "            num_set.add(sudoku[row][col])        \n",
    "        num_set.clear()\n",
    "        \n",
    "    # check column:\n",
    "    for col in range(9):\n",
    "        for row in range(9):\n",
    "            if sudoku[row][col] == '.':\n",
    "                continue\n",
    "            if sudoku[row][col] in num_set:\n",
    "                return False\n",
    "            num_set.add(sudoku[row][col])        \n",
    "        num_set.clear()\n",
    "    \n",
    "    # check subgrid.\n",
    "    for k in range(9):\n",
    "        for sub_row in range(int(k/3)*3, int(k/3)*3+3, 1):\n",
    "            for sub_col in range(k%3*3, k%3*3+3, 1):\n",
    "                if sudoku[row][col] == '.':\n",
    "                    continue\n",
    "                if sudoku[row][col] in num_set:\n",
    "                    return False\n",
    "            num_set.add(sudoku[row][col])        \n",
    "        num_set.clear()\n",
    "                \n",
    "        \n",
    "        \n",
    "    return True\n",
    "    \n",
    "print(valid_sudoku(sudoku))\n",
    "\n",
    "\n",
    "\n",
    "\n"
   ]
  },
  {
   "cell_type": "code",
   "execution_count": null,
   "metadata": {
    "collapsed": true
   },
   "outputs": [],
   "source": []
  }
 ],
 "metadata": {
  "kernelspec": {
   "display_name": "Python 3",
   "language": "python",
   "name": "python3"
  },
  "language_info": {
   "codemirror_mode": {
    "name": "ipython",
    "version": 3
   },
   "file_extension": ".py",
   "mimetype": "text/x-python",
   "name": "python",
   "nbconvert_exporter": "python",
   "pygments_lexer": "ipython3",
   "version": "3.6.1"
  }
 },
 "nbformat": 4,
 "nbformat_minor": 2
}
