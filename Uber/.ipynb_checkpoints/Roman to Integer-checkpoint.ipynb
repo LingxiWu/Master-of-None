{
 "cells": [
  {
   "cell_type": "code",
   "execution_count": 61,
   "metadata": {},
   "outputs": [
    {
     "data": {
      "text/plain": [
       "999"
      ]
     },
     "execution_count": 61,
     "metadata": {},
     "output_type": "execute_result"
    }
   ],
   "source": [
    "# Given a roman numeral, convert it to an integer.\n",
    "# Input is guaranteed to be within the range from 1 to 3999.\n",
    "\n",
    "\n",
    "# case 'I': return 1;  \n",
    "# case 'V': return 5;  \n",
    "# case 'X': return 10;  \n",
    "# case 'L': return 50;  \n",
    "# case 'C': return 100;  \n",
    "# case 'D': return 500;  \n",
    "# case 'M': return 1000;\n",
    "\n",
    "# 49\tXLIX\t-10+50-1+10\n",
    "\n",
    "def roman_to_integer(roman):\n",
    "    \n",
    "    roman_numerals = {'I': 1, 'V': 5, 'X': 10, 'L': 50, 'C': 100, 'D': 500, 'M': 1000}\n",
    "    \n",
    "    ans = 0\n",
    "\n",
    "    i = 0\n",
    "    while(i < len(roman)):\n",
    "        \n",
    "        current_val = roman_numerals.get(roman[i])\n",
    "        if i < len(roman) - 1:\n",
    "            next_val = roman_numerals.get(roman[i+1])\n",
    "        \n",
    "        if(current_val >= next_val):\n",
    "            ans += current_val\n",
    "            i += 1\n",
    "        else:\n",
    "            ans += (next_val - current_val)\n",
    "            i += 2\n",
    "\n",
    "        \n",
    "    return ans\n",
    "\n",
    "\n",
    "roman_to_integer('CMXCIX')\n",
    "\n"
   ]
  },
  {
   "cell_type": "code",
   "execution_count": null,
   "metadata": {
    "collapsed": true
   },
   "outputs": [],
   "source": []
  }
 ],
 "metadata": {
  "kernelspec": {
   "display_name": "Python 3",
   "language": "python",
   "name": "python3"
  },
  "language_info": {
   "codemirror_mode": {
    "name": "ipython",
    "version": 3
   },
   "file_extension": ".py",
   "mimetype": "text/x-python",
   "name": "python",
   "nbconvert_exporter": "python",
   "pygments_lexer": "ipython3",
   "version": "3.6.1"
  }
 },
 "nbformat": 4,
 "nbformat_minor": 2
}
