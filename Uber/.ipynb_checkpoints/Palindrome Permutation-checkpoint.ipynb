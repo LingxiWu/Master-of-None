{
 "cells": [
  {
   "cell_type": "code",
   "execution_count": 12,
   "metadata": {},
   "outputs": [],
   "source": [
    "# Given a string, determine if a permutation of the string could form a palindrome.\n",
    "\n",
    "# For example,\n",
    "# \"code\" -> False, \"aab\" -> True, \"carerac\" -> True.\n",
    "\n",
    "def palindrome_permutation(string):\n",
    "    \n",
    "    hash_map = dict()\n",
    "    \n",
    "    # letter <-> # of occurrences\n",
    "    for l in string:\n",
    "        hash_map[l] = hash_map.get(l, 0) + 1\n",
    "    \n",
    "    # # of odd occurrences\n",
    "    num_odd = 0\n",
    "    for key, val in hash_map.items():\n",
    "        if(val % 2 == 1)\n",
    "            num_odd += 1\n",
    "    \n",
    "    if len(string) % 2 == 1:\n",
    "        if num_odd > 1:\n",
    "            return False\n",
    "        else:\n",
    "            return True\n",
    "            \n",
    "    else:\n",
    "        if num_odd > 0:\n",
    "            return False\n",
    "        else:\n",
    "            return True\n",
    "        \n",
    "        "
   ]
  },
  {
   "cell_type": "code",
   "execution_count": 13,
   "metadata": {},
   "outputs": [
    {
     "name": "stdout",
     "output_type": "stream",
     "text": [
      "2\n",
      "1\n",
      "1\n"
     ]
    }
   ],
   "source": [
    "palindrome_permutation('aadb')"
   ]
  },
  {
   "cell_type": "code",
   "execution_count": null,
   "metadata": {
    "collapsed": true
   },
   "outputs": [],
   "source": []
  }
 ],
 "metadata": {
  "kernelspec": {
   "display_name": "Python 3",
   "language": "python",
   "name": "python3"
  },
  "language_info": {
   "codemirror_mode": {
    "name": "ipython",
    "version": 3
   },
   "file_extension": ".py",
   "mimetype": "text/x-python",
   "name": "python",
   "nbconvert_exporter": "python",
   "pygments_lexer": "ipython3",
   "version": "3.6.1"
  }
 },
 "nbformat": 4,
 "nbformat_minor": 2
}
