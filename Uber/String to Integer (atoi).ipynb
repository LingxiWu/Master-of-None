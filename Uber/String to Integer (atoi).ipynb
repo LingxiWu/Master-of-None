{
 "cells": [
  {
   "cell_type": "code",
   "execution_count": 35,
   "metadata": {},
   "outputs": [
    {
     "name": "stdout",
     "output_type": "stream",
     "text": [
      "- 8\n"
     ]
    },
    {
     "data": {
      "text/plain": [
       "2147483647"
      ]
     },
     "execution_count": 35,
     "metadata": {},
     "output_type": "execute_result"
    }
   ],
   "source": [
    "# Implement atoi to convert a string to an integer.\n",
    "# Hint: Carefully consider all possible input cases. If you want a challenge, please do not see below \n",
    "#     and ask yourself what are the possible input cases.\n",
    "# Notes: It is intended for this problem to be specified vaguely (ie, no given input specs). \n",
    "#     You are responsible to gather all the input requirements up front.\n",
    "# Requirements for atoi:\n",
    "# The function first discards as many whitespace characters as necessary until the first non-whitespace character is found. \n",
    "# Then, starting from this character, takes an optional initial plus or minus sign followed \n",
    "# by as many numerical digits as possible, and interprets them as a numerical value.\n",
    "# The string can contain additional characters after those that form the integral number, \n",
    "# which are ignored and have no effect on the behavior of this function.\n",
    "# If the first sequence of non-whitespace characters in str is not a valid integral number, \n",
    "# or if no such sequence exists because either str is empty or it contains only whitespace characters, no conversion is performed.\n",
    "# If no valid conversion could be performed, a zero value is returned. \n",
    "# If the correct value is out of the range of representable values, INT_MAX (2147483647) or INT_MIN (-2147483648) is returned.\n",
    "\n",
    "\n",
    "input_str_1 = '  - 8 '\n",
    "input_str_2 = '-99999999999999'\n",
    "input_str_3 = ' 2147483648'\n",
    "input_str_4 = \"-3924x8fc\"\n",
    "input_str_5 = \"  +  413\"\n",
    "print(input_str.strip())\n",
    "\n",
    "def atoi(str_input):\n",
    "    \n",
    "    ans = 0\n",
    "    pos_neg = 0\n",
    "    i = 0\n",
    "    \n",
    "    # remove leading white spaces.\n",
    "    str_input = str_input.strip();\n",
    "    \n",
    "    # determine pos/neg\n",
    "    if(str_input[0] == '+'):\n",
    "        pos_neg = 1\n",
    "        i += 1\n",
    "    elif(str_input[0] == '-'):\n",
    "        pos_neg = -1\n",
    "        i += 1\n",
    "    elif(str_input[0].isdigit() and int(str_input[0]) != 0):\n",
    "        pos_neg = 1\n",
    "    elif(int(str_input[0]) == 0):\n",
    "        return 0\n",
    "    else:\n",
    "        return 0\n",
    "    \n",
    "    while(i < len(str_input)):\n",
    "        if(str_input[i].isdigit()):\n",
    "            ans = ans * 10 + int(str_input[i])\n",
    "            if(ans >= 2147483647 and pos_neg == 1):\n",
    "                return 2147483647\n",
    "            elif(ans >= 2147483647 and pos_neg == -1):\n",
    "                return -2147483648\n",
    "        elif(not str_input[i].isdigit()):\n",
    "            return pos_neg*ans\n",
    "        i += 1\n",
    "        \n",
    "    \n",
    "    return pos_neg*ans\n",
    "    \n",
    "    \n",
    "atoi(input_str_3)\n",
    "    \n"
   ]
  },
  {
   "cell_type": "code",
   "execution_count": null,
   "metadata": {
    "collapsed": true
   },
   "outputs": [],
   "source": []
  }
 ],
 "metadata": {
  "kernelspec": {
   "display_name": "Python 3",
   "language": "python",
   "name": "python3"
  },
  "language_info": {
   "codemirror_mode": {
    "name": "ipython",
    "version": 3
   },
   "file_extension": ".py",
   "mimetype": "text/x-python",
   "name": "python",
   "nbconvert_exporter": "python",
   "pygments_lexer": "ipython3",
   "version": "3.6.1"
  }
 },
 "nbformat": 4,
 "nbformat_minor": 2
}
