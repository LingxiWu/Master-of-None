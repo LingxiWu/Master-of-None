{
 "cells": [
  {
   "cell_type": "code",
   "execution_count": 13,
   "metadata": {},
   "outputs": [
    {
     "name": "stdout",
     "output_type": "stream",
     "text": [
      "dog\n",
      "None\n",
      "dog\n",
      "None\n",
      "dog\n",
      "dog\n",
      "dog\n",
      "dog\n",
      "True\n"
     ]
    }
   ],
   "source": [
    "# Given a pattern and a string str, find if str follows the same pattern.\n",
    "\n",
    "# Here follow means a full match, such that there is a bijection between a letter in pattern and a non-empty word in str.\n",
    "\n",
    "# Examples:\n",
    "# pattern = \"abba\", str = \"dog cat cat dog\" should return true.\n",
    "# pattern = \"abba\", str = \"dog cat cat fish\" should return false.\n",
    "# pattern = \"aaaa\", str = \"dog cat cat dog\" should return false.\n",
    "# pattern = \"abba\", str = \"dog dog dog dog\" should return false.\n",
    "\n",
    "# Notes:\n",
    "# You may assume pattern contains only lowercase letters, and str contains lowercase letters separated by a single space.\n",
    "\n",
    "pattern = \"abba\"\n",
    "string = \"dog dog dog dog\"\n",
    "\n",
    "def word_pattern(pattern, string):\n",
    "    \n",
    "    words = string.split(' ')\n",
    "    \n",
    "    if len(words) != len(pattern):\n",
    "        return False\n",
    "    \n",
    "    hash_map = dict()\n",
    "    \n",
    "    for i in range(len(pattern)):\n",
    "        print(words[i])\n",
    "        if not hash_map.get(pattern[i]):\n",
    "            if words[i] in hash_map:\n",
    "                return False\n",
    "            else:\n",
    "                hash_map[pattern[i]] = words[i]\n",
    "        else:\n",
    "            if hash_map[pattern[i]] != words[i]:\n",
    "                return False\n",
    "            \n",
    "    return True\n",
    "    \n",
    "    \n",
    "    \n",
    "print(word_pattern(pattern, string))"
   ]
  },
  {
   "cell_type": "code",
   "execution_count": null,
   "metadata": {
    "collapsed": true
   },
   "outputs": [],
   "source": []
  },
  {
   "cell_type": "code",
   "execution_count": null,
   "metadata": {
    "collapsed": true
   },
   "outputs": [],
   "source": []
  }
 ],
 "metadata": {
  "kernelspec": {
   "display_name": "Python 3",
   "language": "python",
   "name": "python3"
  },
  "language_info": {
   "codemirror_mode": {
    "name": "ipython",
    "version": 3
   },
   "file_extension": ".py",
   "mimetype": "text/x-python",
   "name": "python",
   "nbconvert_exporter": "python",
   "pygments_lexer": "ipython3",
   "version": "3.6.1"
  }
 },
 "nbformat": 4,
 "nbformat_minor": 2
}
