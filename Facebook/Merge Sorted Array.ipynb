{
 "cells": [
  {
   "cell_type": "code",
   "execution_count": 44,
   "metadata": {},
   "outputs": [],
   "source": [
    "# Given two sorted integer arrays A and B, merge B into A as one sorted array.\n",
    "\n",
    "# Note:\n",
    "# You may assume that A has enough space (size that is greater or equal to m + n) to hold additional elements from B. \n",
    "# The number of elements initialized in A and B are m andn respectively.\n",
    "\n",
    "# Analysis:\n",
    "# It actually means: a = [1,1,2,3,0,0,0,0], m = 4, b = [2,3,3,4], n = 4\n",
    "\n",
    "def merge_sorted_array(nums1, m, nums2, n):\n",
    "    \n",
    "    last = m + n - 1\n",
    "    i = m - 1\n",
    "    j = n - 1\n",
    "    \n",
    "    while i > 0 and j > 0:\n",
    "        print(nums1)\n",
    "        if nums1[i] <= nums2[j]:\n",
    "            nums1[last] = nums2[j]\n",
    "            j -= 1\n",
    "        else:\n",
    "            nums1[last] = nums1[i]\n",
    "            i -= 1\n",
    "        last -= 1\n",
    "    \n",
    "    while j >= 0:\n",
    "        nums1[last] = nums2[j]\n",
    "        j -= 1\n",
    "        last -= 1\n",
    "        \n",
    "    \n",
    "nums1 = [2,0]\n",
    "nums2 = [1]\n",
    "\n",
    "merge_sorted_array(nums1, 1, nums2, 1)\n"
   ]
  },
  {
   "cell_type": "code",
   "execution_count": null,
   "metadata": {
    "collapsed": true
   },
   "outputs": [],
   "source": []
  }
 ],
 "metadata": {
  "kernelspec": {
   "display_name": "Python 3",
   "language": "python",
   "name": "python3"
  },
  "language_info": {
   "codemirror_mode": {
    "name": "ipython",
    "version": 3
   },
   "file_extension": ".py",
   "mimetype": "text/x-python",
   "name": "python",
   "nbconvert_exporter": "python",
   "pygments_lexer": "ipython3",
   "version": "3.6.1"
  }
 },
 "nbformat": 4,
 "nbformat_minor": 2
}
