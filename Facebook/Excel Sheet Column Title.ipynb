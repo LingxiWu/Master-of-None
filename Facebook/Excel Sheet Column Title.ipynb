{
 "cells": [
  {
   "cell_type": "code",
   "execution_count": 10,
   "metadata": {},
   "outputs": [
    {
     "data": {
      "text/plain": [
       "'z'"
      ]
     },
     "execution_count": 10,
     "metadata": {},
     "output_type": "execute_result"
    }
   ],
   "source": [
    "# Input          Output\n",
    "#  26             Z\n",
    "#  51             AY\n",
    "#  52             AZ\n",
    "#  80             CB\n",
    "#  676            YZ\n",
    "#  702            ZZ\n",
    "#  705            AAC\n",
    "\n",
    "def excel_column_title(n):\n",
    "    \n",
    "    hash_table = {1:'A', 2:'B', 3:'C', 4:'D', 5:'E', 6:'F', 7:'G', 8:'H', 9:'I',\n",
    "                 10:'J', 11:'K', 12:'L', 13:'M', 14:'N', 15:'O', 16:'P', 17:'Q',\n",
    "                 18:'R', 19:'S', 20:'T', 21:'U', 22:'V', 23:'W', 24:'X', 25:'Y',\n",
    "                 0:'Z'}\n",
    "    \n",
    "    result = []\n",
    "    \n",
    "    r = n % 26\n",
    "    \n",
    "    while n > 0:\n",
    "        \n",
    "        if r == 0:\n",
    "            result.append('z')\n",
    "            n = int(n / 26) - 1\n",
    "        else:\n",
    "            result.append(hash_table.get(r))\n",
    "            n = int(n / 26)\n",
    "        \n",
    "        r = n % 26\n",
    "        \n",
    "    return ''.join(result)[::-1]\n",
    "\n",
    "excel_column_title(26)"
   ]
  },
  {
   "cell_type": "code",
   "execution_count": null,
   "metadata": {
    "collapsed": true
   },
   "outputs": [],
   "source": []
  }
 ],
 "metadata": {
  "kernelspec": {
   "display_name": "Python 3",
   "language": "python",
   "name": "python3"
  },
  "language_info": {
   "codemirror_mode": {
    "name": "ipython",
    "version": 3
   },
   "file_extension": ".py",
   "mimetype": "text/x-python",
   "name": "python",
   "nbconvert_exporter": "python",
   "pygments_lexer": "ipython3",
   "version": "3.6.1"
  }
 },
 "nbformat": 4,
 "nbformat_minor": 2
}
