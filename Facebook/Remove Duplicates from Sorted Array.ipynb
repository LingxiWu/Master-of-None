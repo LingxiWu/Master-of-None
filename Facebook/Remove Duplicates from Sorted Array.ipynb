{
 "cells": [
  {
   "cell_type": "code",
   "execution_count": 11,
   "metadata": {},
   "outputs": [
    {
     "data": {
      "text/plain": [
       "5"
      ]
     },
     "execution_count": 11,
     "metadata": {},
     "output_type": "execute_result"
    }
   ],
   "source": [
    "# Given a sorted array, remove the duplicates in place such that each element appear only once and return the new length.\n",
    "\n",
    "# Do not allocate extra space for another array, you must do this in place with constant memory.\n",
    "\n",
    "# For example,\n",
    "# Given input array A = [1,1,2],\n",
    "\n",
    "# Your function should return length = 2, and A is now [1,2].\n",
    "\n",
    "def remove_duplicates_from_sorted_array(array):\n",
    "    \"\"\"\n",
    "    :type array: List[int]\n",
    "    :rtype: int\n",
    "    \"\"\"\n",
    "    if not array or not len(array):\n",
    "        return 0\n",
    "    \n",
    "    new_tail = 0\n",
    "    \n",
    "    for i in range(1, len(array)):\n",
    "        if array[new_tail] != array[i]:\n",
    "            new_tail += 1\n",
    "            array[new_tail] = array[i]\n",
    "    \n",
    "    return new_tail + 1\n",
    "\n",
    "remove_duplicates_from_sorted_array([1,1,1,1,2,2,3,4,4,5])        "
   ]
  },
  {
   "cell_type": "code",
   "execution_count": null,
   "metadata": {
    "collapsed": true
   },
   "outputs": [],
   "source": []
  }
 ],
 "metadata": {
  "kernelspec": {
   "display_name": "Python 3",
   "language": "python",
   "name": "python3"
  },
  "language_info": {
   "codemirror_mode": {
    "name": "ipython",
    "version": 3
   },
   "file_extension": ".py",
   "mimetype": "text/x-python",
   "name": "python",
   "nbconvert_exporter": "python",
   "pygments_lexer": "ipython3",
   "version": "3.6.1"
  }
 },
 "nbformat": 4,
 "nbformat_minor": 2
}
