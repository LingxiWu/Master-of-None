{
 "cells": [
  {
   "cell_type": "code",
   "execution_count": 3,
   "metadata": {},
   "outputs": [
    {
     "name": "stdout",
     "output_type": "stream",
     "text": [
      "2\n",
      "0\n"
     ]
    }
   ],
   "source": [
    "# Implement strStr().\n",
    "\n",
    "# Return the index of the first occurrence of needle in haystack, or -1 if needle is not part of haystack.\n",
    "\n",
    "# Example 1:\n",
    "\n",
    "# Input: haystack = \"hello\", needle = \"ll\"\n",
    "# Output: 2\n",
    "# Example 2:\n",
    "\n",
    "# Input: haystack = \"aaaaa\", needle = \"bba\"\n",
    "# Output: -1\n",
    "\n",
    "def strStr(haystack, needle):\n",
    "    \n",
    "    if haystack == needle == \"\":\n",
    "        return 0\n",
    "    \n",
    "    for i in range(len(haystack) - len(needle)+1):\n",
    "        if haystack[i:i+len(needle)] == needle:\n",
    "            return i\n",
    "    \n",
    "    return -1\n",
    "\n",
    "print(strStr('hello', 'll'))\n",
    "print(strStr('', ''))"
   ]
  },
  {
   "cell_type": "code",
   "execution_count": null,
   "metadata": {
    "collapsed": true
   },
   "outputs": [],
   "source": []
  }
 ],
 "metadata": {
  "kernelspec": {
   "display_name": "Python 3",
   "language": "python",
   "name": "python3"
  },
  "language_info": {
   "codemirror_mode": {
    "name": "ipython",
    "version": 3
   },
   "file_extension": ".py",
   "mimetype": "text/x-python",
   "name": "python",
   "nbconvert_exporter": "python",
   "pygments_lexer": "ipython3",
   "version": "3.6.1"
  }
 },
 "nbformat": 4,
 "nbformat_minor": 2
}
