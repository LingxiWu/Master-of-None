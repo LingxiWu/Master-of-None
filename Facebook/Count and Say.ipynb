{
 "cells": [
  {
   "cell_type": "code",
   "execution_count": 48,
   "metadata": {},
   "outputs": [
    {
     "data": {
      "text/plain": [
       "11"
      ]
     },
     "execution_count": 48,
     "metadata": {},
     "output_type": "execute_result"
    }
   ],
   "source": [
    "# The count-and-say sequence is the sequence of integers with the first five terms as following:\n",
    "\n",
    "# 1.     1\n",
    "# 2.     11\n",
    "# 3.     21\n",
    "# 4.     1211\n",
    "# 5.     111221\n",
    "# 1 is read off as \"one 1\" or 11.\n",
    "# 11 is read off as \"two 1s\" or 21.\n",
    "# 21 is read off as \"one 2, then one 1\" or 1211.\n",
    "# Given an integer n, generate the nth term of the count-and-say sequence.\n",
    "\n",
    "# Note: Each term of the sequence of integers will be represented as a string.\n",
    "\n",
    "# Example 1:\n",
    "\n",
    "# Input: 1\n",
    "# Output: \"1\"\n",
    "# Example 2:\n",
    "\n",
    "# Input: 4\n",
    "# Output: \"1211\"\n",
    "\n",
    "# hint:\n",
    "# To generate the nth term, just count and say the n-1th term.\n",
    "#  1.     1\n",
    "#  2.     11\n",
    "#  3.     21\n",
    "#  4.     1211\n",
    "#  5.     111221 \n",
    "#  6.     312211\n",
    "#  7.     13112221\n",
    "#  8.     1113213211\n",
    "#  9.     31131211131221\n",
    "# 10.     13211311123113112211\n",
    "\n",
    "def count_and_say(n):\n",
    "    curr = str(1)\n",
    "    length = 1   \n",
    "    for i in range(n-1):       \n",
    "        prev = curr\n",
    "        curr = ''      \n",
    "        for j in range(len(prev)):           \n",
    "            if j+1 < len(prev):              \n",
    "                if prev[j] == prev[j+1]:                 \n",
    "                    length += 1                \n",
    "                else:             \n",
    "                    curr += str(length)\n",
    "                    curr += prev[j]\n",
    "                    length = 1          \n",
    "            elif j+1 ==  len(prev):               \n",
    "                curr += str(length)\n",
    "                curr += str(1)\n",
    "                length = 1              \n",
    "    return int(curr)\n",
    "             \n",
    "count_and_say(2)       \n",
    "        \n",
    "        \n",
    "        \n",
    "        \n",
    "        \n",
    "    "
   ]
  },
  {
   "cell_type": "code",
   "execution_count": null,
   "metadata": {
    "collapsed": true
   },
   "outputs": [],
   "source": []
  }
 ],
 "metadata": {
  "kernelspec": {
   "display_name": "Python 3",
   "language": "python",
   "name": "python3"
  },
  "language_info": {
   "codemirror_mode": {
    "name": "ipython",
    "version": 3
   },
   "file_extension": ".py",
   "mimetype": "text/x-python",
   "name": "python",
   "nbconvert_exporter": "python",
   "pygments_lexer": "ipython3",
   "version": "3.6.1"
  }
 },
 "nbformat": 4,
 "nbformat_minor": 2
}
