{
 "cells": [
  {
   "cell_type": "code",
   "execution_count": 39,
   "metadata": {},
   "outputs": [
    {
     "name": "stdout",
     "output_type": "stream",
     "text": [
      "counter:  1 carry:  0\n",
      "counter:  2 carry:  1\n",
      "counter:  1 carry:  1\n",
      "counter:  3 carry:  1\n"
     ]
    },
    {
     "data": {
      "text/plain": [
       "'11101'"
      ]
     },
     "execution_count": 39,
     "metadata": {},
     "output_type": "execute_result"
    }
   ],
   "source": [
    "# Given two binary strings, return their sum (also a binary string).\n",
    "\n",
    "# For example,\n",
    "# a = \"11\"\n",
    "# b = \"1\"\n",
    "# Return \"100\".\n",
    "\n",
    "def add_binary(a, b):\n",
    "\n",
    "    i, j = len(a)-1, len(b)-1\n",
    "    carry = 0\n",
    "    res = ''\n",
    "    \n",
    "    while i >= 0 or j >= 0:\n",
    "        \n",
    "        counter = 0\n",
    "        \n",
    "        if i >= 0 and a[i] == '1': \n",
    "            counter += 1\n",
    "        if j >= 0 and b[j] == '1':\n",
    "            counter += 1\n",
    "        if carry == 1:\n",
    "            counter += 1\n",
    "        \n",
    "        if counter > 1:\n",
    "            carry = 1\n",
    "        \n",
    "        if counter % 2 == 1:\n",
    "            res += '1'\n",
    "        else:\n",
    "            res += '0'\n",
    "            \n",
    "        i -= 1\n",
    "        j -= 1\n",
    "        print('counter: ', counter, 'carry: ', carry)\n",
    "            \n",
    "    if carry == 1:\n",
    "        res += '1'\n",
    "    \n",
    "    return res[::-1]\n",
    "\n",
    "\n",
    "add_binary('1010', '1011')\n"
   ]
  },
  {
   "cell_type": "code",
   "execution_count": null,
   "metadata": {
    "collapsed": true
   },
   "outputs": [],
   "source": []
  },
  {
   "cell_type": "code",
   "execution_count": null,
   "metadata": {
    "collapsed": true
   },
   "outputs": [],
   "source": []
  }
 ],
 "metadata": {
  "kernelspec": {
   "display_name": "Python 3",
   "language": "python",
   "name": "python3"
  },
  "language_info": {
   "codemirror_mode": {
    "name": "ipython",
    "version": 3
   },
   "file_extension": ".py",
   "mimetype": "text/x-python",
   "name": "python",
   "nbconvert_exporter": "python",
   "pygments_lexer": "ipython3",
   "version": "3.6.1"
  }
 },
 "nbformat": 4,
 "nbformat_minor": 2
}
