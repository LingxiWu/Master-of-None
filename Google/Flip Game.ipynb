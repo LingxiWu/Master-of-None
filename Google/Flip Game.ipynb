{
 "cells": [
  {
   "cell_type": "code",
   "execution_count": 18,
   "metadata": {},
   "outputs": [
    {
     "data": {
      "text/plain": [
       "['--++', '+--+', '++--']"
      ]
     },
     "execution_count": 18,
     "metadata": {},
     "output_type": "execute_result"
    }
   ],
   "source": [
    "# You are playing the following Flip Game with your friend: Given a string that contains only these two characters: \n",
    "# + and -, you and your friend take turns to flip two consecutive \"++\" into \"--\". \n",
    "# The game ends when a person can no longer make a move and therefore the other person will be the winner.\n",
    "\n",
    "# Write a function to compute all possible states of the string after one valid move.\n",
    "\n",
    "# For example, given s = \"++++\", after one move, it may become one of the following states:\n",
    "\n",
    "# [\n",
    "#   \"--++\",\n",
    "#   \"+--+\",\n",
    "#   \"++--\"\n",
    "# ]\n",
    " \n",
    "\n",
    "# If there is no valid move, return an empty list [].\n",
    "\n",
    "def flip_game(string): \n",
    "    \n",
    "    s = list(string)\n",
    "    moves = []\n",
    "    \n",
    "    for i in range(len(s)-1):\n",
    "        if(s[i] == s[i+1] == '+'):\n",
    "            s[i] = s[i+1] = '-'\n",
    "            m = ''.join(s)\n",
    "            moves.append(m)\n",
    "            s[i] = s[i+1] = '+'\n",
    "    \n",
    "    return moves\n",
    "    \n",
    "flip_game('++++')"
   ]
  },
  {
   "cell_type": "code",
   "execution_count": null,
   "metadata": {
    "collapsed": true
   },
   "outputs": [],
   "source": []
  }
 ],
 "metadata": {
  "kernelspec": {
   "display_name": "Python 3",
   "language": "python",
   "name": "python3"
  },
  "language_info": {
   "codemirror_mode": {
    "name": "ipython",
    "version": 3
   },
   "file_extension": ".py",
   "mimetype": "text/x-python",
   "name": "python",
   "nbconvert_exporter": "python",
   "pygments_lexer": "ipython3",
   "version": "3.6.1"
  }
 },
 "nbformat": 4,
 "nbformat_minor": 2
}
