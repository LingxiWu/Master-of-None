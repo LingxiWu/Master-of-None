{
 "cells": [
  {
   "cell_type": "code",
   "execution_count": 11,
   "metadata": {},
   "outputs": [
    {
     "name": "stdout",
     "output_type": "stream",
     "text": [
      "False\n"
     ]
    }
   ],
   "source": [
    "# Given a string, determine if a permutation of the string could form a palindrome.\n",
    "\n",
    "# For example,\n",
    "# \"code\" -> False, \"aab\" -> True, \"carerac\" -> True.\n",
    "\n",
    "# Hint:\n",
    "\n",
    "# Consider the palindromes of odd vs even length. What difference do you notice?\n",
    "# Count the frequency of each character.\n",
    "# If each character occurs even number of times, then it must be a palindrome. \n",
    "# How about character which occurs odd number of times?\n",
    "import collections\n",
    "def pali_perm(letters):\n",
    "    cnt = collections.Counter(letters)\n",
    "    counter\n",
    "    for index, letter in enumerate(cnt):\n",
    "        if(cnt[letter]%2 == 1):\n",
    "            return False\n",
    "    return True\n",
    "print(pali_perm('baa'))"
   ]
  },
  {
   "cell_type": "code",
   "execution_count": null,
   "metadata": {
    "collapsed": true
   },
   "outputs": [],
   "source": []
  }
 ],
 "metadata": {
  "kernelspec": {
   "display_name": "Python 3",
   "language": "python",
   "name": "python3"
  },
  "language_info": {
   "codemirror_mode": {
    "name": "ipython",
    "version": 3
   },
   "file_extension": ".py",
   "mimetype": "text/x-python",
   "name": "python",
   "nbconvert_exporter": "python",
   "pygments_lexer": "ipython3",
   "version": "3.6.1"
  }
 },
 "nbformat": 4,
 "nbformat_minor": 2
}
