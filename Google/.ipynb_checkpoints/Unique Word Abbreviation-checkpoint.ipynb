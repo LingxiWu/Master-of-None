{
 "cells": [
  {
   "cell_type": "code",
   "execution_count": 43,
   "metadata": {},
   "outputs": [
    {
     "name": "stdout",
     "output_type": "stream",
     "text": [
      "{'d2r': 'door|deer|', 'c2d': 'card|', 'c2e': 'cake|'}\n",
      "False\n"
     ]
    }
   ],
   "source": [
    "# An abbreviation of a word follows the form <first letter><number><last letter>. \n",
    "# Below are some examples of word abbreviations:\n",
    "\n",
    "# a) it                      --> it    (no abbreviation)\n",
    "\n",
    "#      1\n",
    "# b) d|o|g                   --> d1g\n",
    "\n",
    "#               1    1  1\n",
    "#      1---5----0----5--8\n",
    "# c) i|nternationalizatio|n  --> i18n\n",
    "\n",
    "#               1\n",
    "#      1---5----0\n",
    "# d) l|ocalizatio|n          --> l10n\n",
    "# Assume you have a dictionary and given a word, find whether its abbreviation is unique in the dictionary. \n",
    "# A word abbreviation is unique if no other word from the dictionary has the same abbreviation.\n",
    "\n",
    "# Example: \n",
    "# Given dictionary = [ \"deer\", \"door\", \"cake\", \"card\" ]\n",
    "\n",
    "# isUnique(\"dear\") -> false\n",
    "# isUnique(\"cart\") -> true\n",
    "# isUnique(\"cane\") -> false\n",
    "# isUnique(\"make\") -> true\n",
    "\n",
    "def make_abbrev(word):\n",
    "    count = 0\n",
    "    head_tail = ''\n",
    "    for i in range(len(word)):\n",
    "        if(i == 0 or i == (len(word)-1)):\n",
    "            head_tail += word[i]\n",
    "        else:\n",
    "            count += 1\n",
    "            \n",
    "    return head_tail[:1] + str(count) + head_tail[1:]\n",
    "\n",
    "def convert_dictionary(dict_list):\n",
    "    words_dict = {}\n",
    "    # convert list to a set to get rid of redundancy.\n",
    "    dict_set = set(dict_list)\n",
    "    # make hashmap: abbrev -> word1|word2|word3...\n",
    "    for word in dict_set:\n",
    "        words_dict[make_abbrev(word)] = words_dict.get(make_abbrev(word), '') + word + '|'\n",
    "    return words_dict\n",
    "\n",
    "def is_unique(word, word_list):\n",
    "    \n",
    "    # make the abbreviation of the input word.\n",
    "    word_abbrev = make_abbrev(word)\n",
    "    # convert list of words to key (addrev) value (list of words that share the same abbrev) pairs.\n",
    "    words_dict = convert_dictionary(word_list)\n",
    "    \n",
    "    values = words_dict.get(word_abbrev)\n",
    "    if(values == None):\n",
    "        return True\n",
    "    else:\n",
    "        if(values.count('|') > 1):\n",
    "            return False\n",
    "#         elif(values.count('|') == 1):\n",
    "            \n",
    "    \n",
    "    \n",
    "print(convert_dictionary([\"deer\", \"deer\", \"door\", \"door\", \"cake\", \"card\"]))    \n",
    "print(is_unique('deer',[\"deer\", \"door\", \"cake\", \"card\"]))"
   ]
  },
  {
   "cell_type": "code",
   "execution_count": null,
   "metadata": {
    "collapsed": true
   },
   "outputs": [],
   "source": []
  }
 ],
 "metadata": {
  "kernelspec": {
   "display_name": "Python 3",
   "language": "python",
   "name": "python3"
  },
  "language_info": {
   "codemirror_mode": {
    "name": "ipython",
    "version": 3
   },
   "file_extension": ".py",
   "mimetype": "text/x-python",
   "name": "python",
   "nbconvert_exporter": "python",
   "pygments_lexer": "ipython3",
   "version": "3.6.1"
  }
 },
 "nbformat": 4,
 "nbformat_minor": 2
}
