{
 "cells": [
  {
   "cell_type": "code",
   "execution_count": 13,
   "metadata": {},
   "outputs": [
    {
     "name": "stdout",
     "output_type": "stream",
     "text": [
      "['1->3->4', '1->2']\n"
     ]
    }
   ],
   "source": [
    "# Given a binary tree, return all root-to-leaf paths.\n",
    "\n",
    "# For example, given the following binary tree:\n",
    "\n",
    "#    1\n",
    "#  /   \\\n",
    "# 2     3\n",
    "#  \\\n",
    "#   5\n",
    "# All root-to-leaf paths are:\n",
    "\n",
    "# [\"1->2->5\", \"1->3\"]\n",
    "class Node:\n",
    "    def __init__(self,v):\n",
    "        self.left = None\n",
    "        self.right = None\n",
    "        self.val = v\n",
    "        \n",
    "        \n",
    "tree = Node(1)\n",
    "tree.left = Node(3)\n",
    "tree.left.left = Node(4)\n",
    "tree.right = Node(2)\n",
    "\n",
    "def binary_tree_path(node):\n",
    "    ans = []\n",
    "    if not node: return ans\n",
    "    if(node.left == None and node.right == None):\n",
    "        ans.append(str(node.val))\n",
    "        return ans\n",
    "    if(node.left != None):\n",
    "        for path in binary_tree_path(node.left):\n",
    "            ans.append(str(node.val) + '->' + path)\n",
    "    if(node.right != None):   \n",
    "        for path in binary_tree_path(node.right):\n",
    "            ans.append(str(node.val) + '->' + path)\n",
    "    return ans\n",
    "\n",
    "print(binary_tree_path(tree))"
   ]
  },
  {
   "cell_type": "code",
   "execution_count": null,
   "metadata": {
    "collapsed": true
   },
   "outputs": [],
   "source": []
  }
 ],
 "metadata": {
  "kernelspec": {
   "display_name": "Python 3",
   "language": "python",
   "name": "python3"
  },
  "language_info": {
   "codemirror_mode": {
    "name": "ipython",
    "version": 3
   },
   "file_extension": ".py",
   "mimetype": "text/x-python",
   "name": "python",
   "nbconvert_exporter": "python",
   "pygments_lexer": "ipython3",
   "version": "3.6.1"
  }
 },
 "nbformat": 4,
 "nbformat_minor": 2
}
