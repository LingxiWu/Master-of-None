{
 "cells": [
  {
   "cell_type": "code",
   "execution_count": 13,
   "metadata": {},
   "outputs": [
    {
     "name": "stdout",
     "output_type": "stream",
     "text": [
      "True\n",
      "False\n"
     ]
    }
   ],
   "source": [
    "# Given a string containing just the characters '(', ')', '{', '}', '[' and ']', \n",
    "# determine if the input string is valid.\n",
    "\n",
    "# The brackets must close in the correct order, \"()\" and \"()[]{}\" \n",
    "# are all valid but \"(]\" and \"([)]\" are not.\n",
    "\n",
    "\n",
    "\n",
    "def validParenthesis(string):\n",
    "    stack = []\n",
    "    ans = False\n",
    "    for s in string:\n",
    "        stack.append(s) # push onto the stack.\n",
    "        if(len(stack) != 1):\n",
    "            if(stack[len(stack)-2] == '(' and stack[len(stack)-1] == ')'):\n",
    "                stack.pop()\n",
    "                stack.pop()\n",
    "            elif(stack[len(stack)-2] == '[' and stack[len(stack)-1] == ']'):  \n",
    "                stack.pop()\n",
    "                stack.pop()\n",
    "            elif(stack[len(stack)-2] == '{' and stack[len(stack)-1] == '}'):\n",
    "                stack.pop()\n",
    "                stack.pop()\n",
    "    if(len(stack) > 0):\n",
    "        ans = False\n",
    "    else:\n",
    "        ans = True\n",
    "    return ans  \n",
    "    \n",
    "    \n",
    "    \n",
    "ans1 = validParenthesis('(([()[]({})]))')\n",
    "ans2 = validParenthesis('([)]')\n",
    "\n",
    "print(ans1)\n",
    "print(ans2)"
   ]
  },
  {
   "cell_type": "code",
   "execution_count": null,
   "metadata": {
    "collapsed": true
   },
   "outputs": [],
   "source": []
  }
 ],
 "metadata": {
  "kernelspec": {
   "display_name": "Python 3",
   "language": "python",
   "name": "python3"
  },
  "language_info": {
   "codemirror_mode": {
    "name": "ipython",
    "version": 3
   },
   "file_extension": ".py",
   "mimetype": "text/x-python",
   "name": "python",
   "nbconvert_exporter": "python",
   "pygments_lexer": "ipython3",
   "version": "3.6.1"
  }
 },
 "nbformat": 4,
 "nbformat_minor": 2
}
