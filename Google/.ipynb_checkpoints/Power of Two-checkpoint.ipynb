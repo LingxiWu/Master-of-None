{
 "cells": [
  {
   "cell_type": "code",
   "execution_count": 12,
   "metadata": {},
   "outputs": [
    {
     "name": "stdout",
     "output_type": "stream",
     "text": [
      "False\n",
      "True\n"
     ]
    }
   ],
   "source": [
    "# Given an integer, write a function to determine if it is a power of two.\n",
    "\n",
    "# Analysis: we can do this either iterativily or recursivily. But a quick and dirty way to do this is using\n",
    "# bit operator\n",
    "# 1 -> 1, 2 -> 10, 4 -> 100, 8 -> 1000 ...\n",
    "# 0 -> 0, 1 -> 01, 3 -> 011, 7 -> 0111 ...\n",
    "# so all the numbers that are power of 2 has highest bit as 1, and these number -1 has the highest power of \n",
    "# 0 and the rest bits as 1s.\n",
    "# If we perform bit wise &, they will return 0.\n",
    "\n",
    "def power_of_two(num):\n",
    "    ans = num & (num-1)\n",
    "    return (not ans)\n",
    "\n",
    "print(power_of_two(9))\n",
    "print(power_of_two(8))"
   ]
  },
  {
   "cell_type": "code",
   "execution_count": null,
   "metadata": {
    "collapsed": true
   },
   "outputs": [],
   "source": []
  },
  {
   "cell_type": "code",
   "execution_count": null,
   "metadata": {
    "collapsed": true
   },
   "outputs": [],
   "source": []
  }
 ],
 "metadata": {
  "kernelspec": {
   "display_name": "Python 3",
   "language": "python",
   "name": "python3"
  },
  "language_info": {
   "codemirror_mode": {
    "name": "ipython",
    "version": 3
   },
   "file_extension": ".py",
   "mimetype": "text/x-python",
   "name": "python",
   "nbconvert_exporter": "python",
   "pygments_lexer": "ipython3",
   "version": "3.6.1"
  }
 },
 "nbformat": 4,
 "nbformat_minor": 2
}
