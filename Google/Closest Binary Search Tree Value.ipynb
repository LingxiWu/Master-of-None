{
 "cells": [
  {
   "cell_type": "code",
   "execution_count": 4,
   "metadata": {},
   "outputs": [
    {
     "data": {
      "text/plain": [
       "2"
      ]
     },
     "execution_count": 4,
     "metadata": {},
     "output_type": "execute_result"
    }
   ],
   "source": [
    "# Given a non-empty binary search tree and a target value, find the value in the BST that is closest to the target.\n",
    "\n",
    "# Note:\n",
    "\n",
    "# Given target value is a floating point.\n",
    "# You are guaranteed to have only one unique value in the BST that is closest to the target.\n",
    "\n",
    "#         3\n",
    "#       /  \\\n",
    "#      1    4\n",
    "#     / \\\n",
    "#    0   2\n",
    "#\n",
    "# input: 1.9\n",
    "# return 2\n",
    "\n",
    "class Node:\n",
    "    def __init__(self, v):\n",
    "        self.left = None\n",
    "        self.right = None\n",
    "        self.val = v\n",
    "\n",
    "def closest_binary_search_tree_value(node, target):\n",
    "    \n",
    "    if(not node.left and not node.right):\n",
    "        return node.val\n",
    "    \n",
    "    ans = node.val\n",
    "    \n",
    "    if(target < node.val and node.left != None):\n",
    "        ans_left = closest_binary_search_tree_value(node.left, target)\n",
    "        if(abs(ans - target) > abs(ans_left - target)):\n",
    "            ans = ans_left\n",
    "    if(target > node.val and node.right != None):\n",
    "        ans_right = closest_binary_search_tree_value(node.right, target)\n",
    "        if(abs(ans - target) > abs(ans_right - target)):\n",
    "            ans = ans_right\n",
    "    \n",
    "    return ans\n",
    "\n",
    "tree = Node(3)\n",
    "tree.left = Node(1)\n",
    "tree.right = Node(4)\n",
    "tree.left.left = Node(0)\n",
    "tree.left.right = Node(2)\n",
    "\n",
    "\n",
    "closest_binary_search_tree_value(tree, 1.9)\n"
   ]
  },
  {
   "cell_type": "code",
   "execution_count": null,
   "metadata": {
    "collapsed": true
   },
   "outputs": [],
   "source": []
  }
 ],
 "metadata": {
  "kernelspec": {
   "display_name": "Python 3",
   "language": "python",
   "name": "python3"
  },
  "language_info": {
   "codemirror_mode": {
    "name": "ipython",
    "version": 3
   },
   "file_extension": ".py",
   "mimetype": "text/x-python",
   "name": "python",
   "nbconvert_exporter": "python",
   "pygments_lexer": "ipython3",
   "version": "3.6.1"
  }
 },
 "nbformat": 4,
 "nbformat_minor": 2
}
