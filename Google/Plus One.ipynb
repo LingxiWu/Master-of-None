{
 "cells": [
  {
   "cell_type": "code",
   "execution_count": 40,
   "metadata": {},
   "outputs": [
    {
     "name": "stdout",
     "output_type": "stream",
     "text": [
      "[3, 5, 0]\n"
     ]
    }
   ],
   "source": [
    "# Given a non-negative integer represented as a non-empty array of digits, plus one to the integer.\n",
    "\n",
    "# You may assume the integer do not contain any leading zero, except the number 0 itself.\n",
    "\n",
    "# The digits are stored such that the most significant digit is at the head of the list.\n",
    "\n",
    "# e.g. 136 -> [1,3,6] +1 = [1,3,7]\n",
    "#      99 -> [9,9] -> [1,0,0]\n",
    "\n",
    "def plusOne(digits):\n",
    "    \n",
    "    if(digits[len(digits)-1] != 9):\n",
    "        digits[len(digits)-1] += 1\n",
    "    else:\n",
    "        for i in range(len(digits)-1,-1,-1): # i start at 10, should always be larger than -1, and decrement by -1.\n",
    "            if(digits[i] != 9):\n",
    "                digits[i] += 1\n",
    "                break\n",
    "            else:\n",
    "                digits[i] = 0\n",
    "        if(max(digits) == 0):\n",
    "            digits.insert(0,1)\n",
    "    return digits      \n",
    "        \n",
    "print(plusOne([3,4,9]))"
   ]
  },
  {
   "cell_type": "code",
   "execution_count": null,
   "metadata": {
    "collapsed": true
   },
   "outputs": [],
   "source": []
  },
  {
   "cell_type": "code",
   "execution_count": null,
   "metadata": {
    "collapsed": true
   },
   "outputs": [],
   "source": []
  }
 ],
 "metadata": {
  "kernelspec": {
   "display_name": "Python 3",
   "language": "python",
   "name": "python3"
  },
  "language_info": {
   "codemirror_mode": {
    "name": "ipython",
    "version": 3
   },
   "file_extension": ".py",
   "mimetype": "text/x-python",
   "name": "python",
   "nbconvert_exporter": "python",
   "pygments_lexer": "ipython3",
   "version": "3.6.1"
  }
 },
 "nbformat": 4,
 "nbformat_minor": 2
}
