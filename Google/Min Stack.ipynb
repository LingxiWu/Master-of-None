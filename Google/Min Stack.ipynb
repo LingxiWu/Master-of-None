{
 "cells": [
  {
   "cell_type": "code",
   "execution_count": 20,
   "metadata": {},
   "outputs": [
    {
     "name": "stdout",
     "output_type": "stream",
     "text": [
      "-2\n",
      "[2, -2]\n"
     ]
    }
   ],
   "source": [
    "# Design a stack that supports push, pop, top, and retrieving the minimum element in constant time.\n",
    "\n",
    "# push(x) -- Push element x onto stack.\n",
    "# pop() -- Removes the element on top of the stack.\n",
    "# top() -- Get the top element.\n",
    "# getMin() -- Retrieve the minimum element in the stack.\n",
    "# Example:\n",
    "# MinStack minStack = new MinStack();\n",
    "# minStack.push(-2);\n",
    "# minStack.push(0);\n",
    "# minStack.push(-3);\n",
    "# minStack.getMin();   --> Returns -3.\n",
    "# minStack.pop();\n",
    "# minStack.top();      --> Returns 0.\n",
    "# minStack.getMin();   --> Returns -2.\n",
    "\n",
    "# Analysis: we need to use another stack to track the current min.\n",
    "\n",
    "class minStack:\n",
    "    def __init__(self):\n",
    "        self.list = []\n",
    "        self.list_min = []\n",
    "    def push(self,val):\n",
    "        self.list.append(val)\n",
    "        if(len(self.list_min) == 0 or self.list_min[len(self.list_min)-1] > val):\n",
    "            self.list_min.append(val)\n",
    "    def pop(self):      \n",
    "        if(self.list[len(self.list)-1] == self.list_min[len(self.list_min)-1]):\n",
    "            self.list_min.pop()\n",
    "        self.list.pop()\n",
    "    def top(self):\n",
    "        return self.list[len(self.list)-1]\n",
    "    def getMin(self):\n",
    "        return \n",
    "        \n",
    "minStack = minStack()\n",
    "minStack.push(2)\n",
    "minStack.push(3)\n",
    "minStack.push(-2)\n",
    "minStack.push(-1)\n",
    "minStack.pop()\n",
    "print(minStack.top())\n",
    "print(minStack.list_min)"
   ]
  },
  {
   "cell_type": "code",
   "execution_count": null,
   "metadata": {
    "collapsed": true
   },
   "outputs": [],
   "source": []
  }
 ],
 "metadata": {
  "kernelspec": {
   "display_name": "Python 3",
   "language": "python",
   "name": "python3"
  },
  "language_info": {
   "codemirror_mode": {
    "name": "ipython",
    "version": 3
   },
   "file_extension": ".py",
   "mimetype": "text/x-python",
   "name": "python",
   "nbconvert_exporter": "python",
   "pygments_lexer": "ipython3",
   "version": "3.6.1"
  }
 },
 "nbformat": 4,
 "nbformat_minor": 2
}
