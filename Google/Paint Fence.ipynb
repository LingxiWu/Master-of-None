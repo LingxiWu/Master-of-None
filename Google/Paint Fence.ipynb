{
 "cells": [
  {
   "cell_type": "code",
   "execution_count": 27,
   "metadata": {},
   "outputs": [],
   "source": [
    "# There is a fence with n posts, each post can be painted with one of the k colors. \n",
    "# You have to paint all the posts such that no more than two adjacent fence posts have the same color. \n",
    "# Return the total number of ways you can paint the fence.\n",
    "\n",
    "# Notice\n",
    "# n and k are non-negative integers.\n",
    "# Example\n",
    "# Given n=3, k=2 return 6\n",
    "\n",
    "# Analysis: there are two cases essentially,\n",
    "#           1. if i th post have a different color than i-1 th post, there are (k-1)*DP[i-1] choices.\n",
    "#           2. if i th post have the same color with i-1 the post, then it is required that i-1 th and i-2 th posts have\n",
    "#              different color with is (K-1)*DP[i-2]\n",
    "#           so the total number of choices is (k-1)*(DP[i-1] + DP[i-2])\n",
    "\n",
    "\n",
    "def paint_fence(n, k):\n",
    "    \n",
    "    if(n > 2 and k == 1):\n",
    "        return 0\n",
    "    \n",
    "    if(n == 1):\n",
    "        return k\n",
    "    \n",
    "    ways = [0] * n\n",
    "    ways[0] = k\n",
    "    ways[1] = (k - 1) * ways[0] + k\n",
    "    for i in range(2, n):\n",
    "        ways[i] = (k - 1) * (ways[i - 1] + ways[i - 2])\n",
    "    return ways[(n - 1) % 3]"
   ]
  },
  {
   "cell_type": "code",
   "execution_count": 29,
   "metadata": {},
   "outputs": [
    {
     "data": {
      "text/plain": [
       "6"
      ]
     },
     "execution_count": 29,
     "metadata": {},
     "output_type": "execute_result"
    }
   ],
   "source": [
    "paint_fence(3,2)\n"
   ]
  },
  {
   "cell_type": "code",
   "execution_count": null,
   "metadata": {
    "collapsed": true
   },
   "outputs": [],
   "source": []
  }
 ],
 "metadata": {
  "kernelspec": {
   "display_name": "Python 3",
   "language": "python",
   "name": "python3"
  },
  "language_info": {
   "codemirror_mode": {
    "name": "ipython",
    "version": 3
   },
   "file_extension": ".py",
   "mimetype": "text/x-python",
   "name": "python",
   "nbconvert_exporter": "python",
   "pygments_lexer": "ipython3",
   "version": "3.6.1"
  }
 },
 "nbformat": 4,
 "nbformat_minor": 2
}
